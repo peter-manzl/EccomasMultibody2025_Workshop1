{
 "cells": [
  {
   "cell_type": "markdown",
   "id": "4d660246-a6c9-4351-8ea3-fb0af5a4aa71",
   "metadata": {
    "editable": true,
    "slideshow": {
     "slide_type": "slide"
    },
    "tags": []
   },
   "source": [
    "# Large Language Models\n",
    "\n",
    "## **Session 4-4:** Create Slider-Crank model using an online API\n",
    "    \n",
    "Alternatively, instead of using your local resources, various companies provide __APIs__ for their proprietary models. Note that the owner of the key pays on a token basis. The prices shown here were checked on 6.7.2025 and may change. \n",
    "\n",
    "\n",
    "| Model | Provider | Input  | Output  |  \n",
    "| -------- | ------- | :--------: | :--------: |\n",
    "|     |  | per 1M tokens | per 1M tokens | \n",
    "| GPT-4.1  |  OpenAI    | \\$ 2.00 | \\$ 8.00 |  \n",
    "| GPT-4.1 mini |  OpenAI    | \\$ 0.40 | \\$ 1.60 | \n",
    "|  o1   | OpenAI | \\$15.00 | \\$60.00 |\n",
    "| Gemini Pro 2.5    | Google | \\$ 1.25 - 2.50 | \\$ 10.00 - 15.00 |\n",
    "|  Gemini Flash 2.5   | Google | \\$ 0.30 | \\$ 2.50 |\n",
    "| Claude Opus 4 | Anthropic | \\$ 15.00  | \\$ 75.00 |\n",
    "| Claude Sonnet 4 | Anthropic | \\$ 3.00 | \\$ 15.00 |\n",
    "\n",
    "\n",
    "* Gemini Pro: price increases for inputs > __200k tokens__\n",
    "* OpenAI offers a (more expensive) __real-time__ API and (cheaper) __batched API__ (may take up to 24h, running asynchronously)\n",
    "* Depending on the provided requests per minute (RPM) and tokens per minute (TPM) might be limited according to the type of contract/subscription.  \n",
    "* While there are different providers, the following example is using the OpenAI interface \n",
    "* To run the code, an api key is needed; this can be done either via writing it into a file\n",
    "* __NEVER__ upload api key to __public repository__! $\\Rightarrow$ Anybody with the key can use the API at your cost.\n",
    "* [keys](https://platform.openai.com/api-keys), [usage](https://platform.openai.com/usage) and the model's requests can be monitored online. \n",
    "* The code is part of the [paper](https://doi.org/10.21203/rs.3.rs-6566994/v1) _Creation, Evaluation and Self-Validation of Simulation Models with Large Language Models_, see also our [github](https://github.com/jgerstmayr/AI-engineering-lab) and the file [processRessultsWithOpenAI_GPT4o](https://github.com/jgerstmayr/AI-engineering-lab/blob/main/processResultsWithOpenAI_GPT4o.py).\n",
    "\n",
    "<!-- \n",
    "Send out file with API keys for workshop.\n",
    "Talk Möltner: Thursday 11:50 \n",
    "-->"
   ]
  },
  {
   "cell_type": "markdown",
   "id": "0a45612b-9d09-4f31-aae5-bcdd55b364b1",
   "metadata": {
    "editable": true,
    "slideshow": {
     "slide_type": "slide"
    },
    "tags": []
   },
   "source": [
    "## Note: \n",
    "* To run the following script, an API key is required!\n",
    "* You do not need to create one yourself\n",
    "* One key will be sent out shortly before the workshop and deactivated afterwards. "
   ]
  },
  {
   "cell_type": "code",
   "execution_count": 1,
   "id": "99e6f2e0-041d-486e-8c35-d55390f7c7fb",
   "metadata": {
    "editable": true,
    "slideshow": {
     "slide_type": "slide"
    },
    "tags": []
   },
   "outputs": [
    {
     "name": "stdout",
     "output_type": "stream",
     "text": [
      "key loaded successfully\n"
     ]
    }
   ],
   "source": [
    "import os\n",
    "import time\n",
    "from LLMHelperFunctions import CheckOutputLLM # helper function\n",
    "import openai\n",
    "from openai import OpenAI\n",
    "from dotenv import load_dotenv\n",
    "\n",
    "flag_env = load_dotenv(\"openai_api_key.env\")\n",
    "if flag_env: \n",
    "    print('key loaded successfully')\n",
    "else: \n",
    "    print('key could not be loaded - check if it is available!')"
   ]
  },
  {
   "cell_type": "markdown",
   "id": "57d2faa1-ef1b-47f0-83e6-c8f7d22eaff2",
   "metadata": {
    "editable": true,
    "slideshow": {
     "slide_type": ""
    },
    "tags": []
   },
   "source": [
    "Initialize the API using the (private) key. The key is a combination of alphanumeric characters similar to an ssh-key.   \n",
    "It could also be hardcoded as a string in the interface below. The key is created [online](https://platform.openai.com/api-keys).  "
   ]
  },
  {
   "cell_type": "code",
   "execution_count": 2,
   "id": "3ecd4b4f-c4c0-42f3-8e4c-c726d4e2ae4c",
   "metadata": {
    "editable": true,
    "slideshow": {
     "slide_type": "slide"
    },
    "tags": []
   },
   "outputs": [],
   "source": [
    "# initialize the client using the API key from the environment variable\n",
    "client = OpenAI(\n",
    "        api_key= os.environ.get(\"OPENAI_API_KEY\", None),\n",
    "    )\n"
   ]
  },
  {
   "cell_type": "markdown",
   "id": "34359437-c679-4088-aec2-a848ba55c139",
   "metadata": {
    "editable": true,
    "slideshow": {
     "slide_type": "slide"
    },
    "tags": []
   },
   "source": [
    "### Availible models\n",
    "A list of availibe models is also availible [online](https://platform.openai.com/docs/models/).  \n",
    "Some models (e.g. 4o) have different input/output modalities. \n",
    "The date (e.g. ) refers to the date of the _snapshot_. If the behaviour/performance of a specific model should be consistant the snapshot can be specified. \n",
    "\n"
   ]
  },
  {
   "cell_type": "code",
   "execution_count": 3,
   "id": "cd8e753b-fecb-406f-b9ad-5630e2d85fa2",
   "metadata": {
    "editable": true,
    "scrolled": true,
    "slideshow": {
     "slide_type": ""
    },
    "tags": []
   },
   "outputs": [
    {
     "name": "stdout",
     "output_type": "stream",
     "text": [
      "model list: \n",
      "0 :  gpt-4-0613\n",
      "1 :  gpt-4\n",
      "2 :  gpt-3.5-turbo\n",
      "3 :  o4-mini-deep-research-2025-06-26\n",
      "4 :  codex-mini-latest\n",
      "5 :  gpt-4o-realtime-preview-2025-06-03\n",
      "6 :  gpt-4o-audio-preview-2025-06-03\n",
      "7 :  o4-mini-deep-research\n",
      "8 :  davinci-002\n",
      "9 :  babbage-002\n",
      "10 :  gpt-3.5-turbo-instruct\n",
      "11 :  gpt-3.5-turbo-instruct-0914\n",
      "12 :  dall-e-3\n",
      "13 :  dall-e-2\n",
      "14 :  gpt-4-1106-preview\n",
      "15 :  gpt-3.5-turbo-1106\n",
      "16 :  tts-1-hd\n",
      "17 :  tts-1-1106\n",
      "18 :  tts-1-hd-1106\n",
      "19 :  text-embedding-3-small\n",
      "20 :  text-embedding-3-large\n",
      "21 :  gpt-4-0125-preview\n",
      "22 :  gpt-4-turbo-preview\n",
      "23 :  gpt-3.5-turbo-0125\n",
      "24 :  gpt-4-turbo\n",
      "25 :  gpt-4-turbo-2024-04-09\n",
      "26 :  gpt-4o\n",
      "27 :  gpt-4o-2024-05-13\n",
      "28 :  gpt-4o-mini-2024-07-18\n",
      "29 :  gpt-4o-mini\n",
      "30 :  gpt-4o-2024-08-06\n",
      "31 :  chatgpt-4o-latest\n",
      "32 :  o1-preview-2024-09-12\n",
      "33 :  o1-preview\n",
      "34 :  o1-mini-2024-09-12\n",
      "35 :  o1-mini\n",
      "36 :  gpt-4o-realtime-preview-2024-10-01\n",
      "37 :  gpt-4o-audio-preview-2024-10-01\n",
      "38 :  gpt-4o-audio-preview\n",
      "39 :  gpt-4o-realtime-preview\n",
      "40 :  omni-moderation-latest\n",
      "41 :  omni-moderation-2024-09-26\n",
      "42 :  gpt-4o-realtime-preview-2024-12-17\n",
      "43 :  gpt-4o-audio-preview-2024-12-17\n",
      "44 :  gpt-4o-mini-realtime-preview-2024-12-17\n",
      "45 :  gpt-4o-mini-audio-preview-2024-12-17\n",
      "46 :  o1-2024-12-17\n",
      "47 :  o1\n",
      "48 :  gpt-4o-mini-realtime-preview\n",
      "49 :  gpt-4o-mini-audio-preview\n",
      "50 :  o3-mini\n",
      "51 :  o3-mini-2025-01-31\n",
      "52 :  gpt-4o-2024-11-20\n",
      "53 :  gpt-4.5-preview\n",
      "54 :  gpt-4.5-preview-2025-02-27\n",
      "55 :  gpt-4o-search-preview-2025-03-11\n",
      "56 :  gpt-4o-search-preview\n",
      "57 :  gpt-4o-mini-search-preview-2025-03-11\n",
      "58 :  gpt-4o-mini-search-preview\n",
      "59 :  gpt-4o-transcribe\n",
      "60 :  gpt-4o-mini-transcribe\n",
      "61 :  o1-pro-2025-03-19\n",
      "62 :  o1-pro\n",
      "63 :  gpt-4o-mini-tts\n",
      "64 :  o4-mini-2025-04-16\n",
      "65 :  o4-mini\n",
      "66 :  gpt-4.1-2025-04-14\n",
      "67 :  gpt-4.1\n",
      "68 :  gpt-4.1-mini-2025-04-14\n",
      "69 :  gpt-4.1-mini\n",
      "70 :  gpt-4.1-nano-2025-04-14\n",
      "71 :  gpt-4.1-nano\n",
      "72 :  gpt-image-1\n",
      "73 :  gpt-3.5-turbo-16k\n",
      "74 :  tts-1\n",
      "75 :  whisper-1\n",
      "76 :  text-embedding-ada-002\n"
     ]
    }
   ],
   "source": [
    "modelList = client.models.list().to_dict()\n",
    "print('model list: ')\n",
    "for i, data in enumerate(modelList['data']): \n",
    "    name_i = data['id']\n",
    "    print(i, ': ', data['id'])"
   ]
  },
  {
   "cell_type": "code",
   "execution_count": 4,
   "id": "cc336668-a7aa-4a9c-89e8-6ee4665c4161",
   "metadata": {
    "editable": true,
    "scrolled": true,
    "slideshow": {
     "slide_type": "slide"
    },
    "tags": []
   },
   "outputs": [
    {
     "name": "stdout",
     "output_type": "stream",
     "text": [
      "#In the following, there are examples to create multibody systems in Exudyn and also important notes about the interface.\n",
      "#NOTE: mbs.Create...(...) calls several functions in the background to create nodes, objects, markers and loads in Exudyn.\n",
      "#most quantities such as initial or reference positions and velocities are giving as 3D lists [x,y,z] for positions, velocities, ....\n",
      "#rotations are usually given as rotation matrix (3x3 numpy array); \n",
      "#RotationVector2RotationMatrix([rotX, rotY, rotZ]) computes a rotation around the global x,y,z rotation axis\n",
      "#for working with rigid bodies, note that there is always a local coordinate system in the body, \n",
      "#which can be used to define the location of position and orientation of joints, see the examples.\n",
      "    \n",
      "#%%++++++++++++++++++++++++++++++++++++++++++++++++++++\n",
      "#create rigid bodies and mass points with distance constraint and joints\n",
      "import exudyn as exu\n",
      "from exudyn.utilities import * #includes itemInterface and rigidBodyUtilities\n",
      "import exudyn.graphics as graphics #only import if it does not conflict\n",
      "import numpy as np\n",
      "SC = exu.SystemContainer()\n",
      "mbs = SC.AddSystem() #create a MainSystem 'mbs' to work with\n",
      "\n",
      "#graphics data for checkerboard background (not required):\n",
      "gGround0 = graphics.CheckerBoard(point=[3,0,-2], normal=[0,0,1], size=10)\n",
      "#add ground object and background graphics; visualization is optional\n",
      "oGround = mbs.CreateGround(graphicsDataList=[gGround0])\n",
      "\n",
      "#create a cube with length L (X-direction), height H (Y) and width W (Z)\n",
      "L=1\n",
      "H=0.2\n",
      "W=0.1\n",
      "#for visualization of the cube, we define a graphics object in the following\n",
      "graphicsCube = graphics.Brick(centerPoint = [0,0,0], #note that centerPoint is in the local coordinate system; IN MOST CASES THIS MUST BE AT [0,0,0]\n",
      "                                          size=[L,H,W], color=graphics.color.orange)\n",
      "#SUMMARIZING: graphicsCube usually should have centerPoint=[0,0,0] if used in the CreateRigidBody\n",
      "#define the inertia of this cube using InertiaCuboid with density and cube dimensions; computes internally mass, COM, and inertia tensor:\n",
      "inertiaCube = InertiaCuboid(density=5000, sideLengths=[L,H,W])\n",
      "\n",
      "#create simple rigid body\n",
      "#note that graphics is always attached to reference point of body, which is by default the COM\n",
      "#graphicsCube is added to reference point of the rigid body, here it is equal to the center of mass (COM):\n",
      "b0 = mbs.CreateRigidBody(inertia = inertiaCube,\n",
      "                         referencePosition = [0.5*L,0,0], #reference position x/y/z of COM\n",
      "                         referenceRotationMatrix=RotationVector2RotationMatrix([0,0,pi*0.5]),\n",
      "                         initialAngularVelocity=[2,0,0],\n",
      "                         initialVelocity=[0,4,0],\n",
      "                         gravity = [0,-9.81,0],\n",
      "                         graphicsDataList = [graphicsCube])\n",
      "\n",
      "#add an load with user function:\n",
      "def UFforce(mbs, t, loadVector):\n",
      "    #define time-dependent function:\n",
      "    return (10+5*np.sin(t*10*2*pi))*np.array(loadVector)\n",
      "\n",
      "#add an load with 10N in x-direction to rigid body at marker position\n",
      "#add user function to modify load in time\n",
      "mbs.CreateForce(bodyNumber=b0,\n",
      "                localPosition=[-0.5*L,0,0],\n",
      "                loadVector=[10,0,0],\n",
      "                loadVectorUserFunction=UFforce)\n",
      "\n",
      "#add torque to rigid body at left end\n",
      "mbs.CreateTorque(bodyNumber=b0, localPosition=[0.5,0,0],\n",
      "                loadVector=[0,1,0]) #torque of 1N around y-axis\n",
      "\n",
      "#create a rigid distance between local position of bodies (or ground) or between nodes\n",
      "mbs.CreateDistanceConstraint(bodyOrNodeList=[oGround, b0], \n",
      "                             localPosition0 = [ 0. ,0,0],\n",
      "                             localPosition1 = [-0.5,0,0],\n",
      "                             distance=None, #automatically computed\n",
      "                             drawSize=0.06)\n",
      "\n",
      "#geometrical parameters of two further bodies\n",
      "a=1\n",
      "b=2\n",
      "xOff = 1 #offset in x-direction for first body\n",
      "yOff =-0.5 #offset in y-direction of first body\n",
      "\n",
      "#create a second graphics object\n",
      "graphicsCube2 = graphics.Brick(centerPoint = [0,0,0], \n",
      "                                          size=[a,b,0.1], color=graphics.color.blue)\n",
      "inertiaCube2 = InertiaCuboid(density=5000, sideLengths=[a,b,0.1])\n",
      "\n",
      "#create another rigid body with other dimensions\n",
      "b1 = mbs.CreateRigidBody(inertia = inertiaCube2,\n",
      "                          referencePosition = [xOff+0.5*a,yOff-0.5*b,0], #reference position of body [X,Y,Z]\n",
      "                          gravity = [0,-9.81,0],\n",
      "                          graphicsDataList = [graphicsCube2])\n",
      "\n",
      "#create another rigid body with same dimensions as b1\n",
      "b2 = mbs.CreateRigidBody(inertia = inertiaCube2,\n",
      "                          referencePosition = [xOff+0.5*a+a,yOff-0.5*b-b,0], #reference position of body [X,Y,Z]\n",
      "                          gravity = [0,-9.81,0],\n",
      "                          graphicsDataList = [graphicsCube2])\n",
      "\n",
      "#create revolute joint with following args:\n",
      "    # name: name string for joint; markers get Marker0:name and Marker1:name\n",
      "    # bodyNumbers: a list of object numbers for body0 and body1; must be rigid body or ground object\n",
      "    # position: a 3D vector as list or np.array: if useGlobalFrame=True it describes the global position of the joint in reference configuration; else: local position in body0\n",
      "    # axis: a 3D vector as list or np.array: if useGlobalFrame=True it describes the global rotation axis of the joint in reference configuration; else: local axis in body0\n",
      "    # show: if True, connector visualization is drawn\n",
      "    # axisRadius: radius of axis for connector graphical representation\n",
      "    # axisLength: length of axis for connector graphical representation\n",
      "    # color: color of connector\n",
      "#CreateRevoluteJoint returns list [oJoint, mBody0, mBody1], containing the joint object number, and the two rigid body markers on body0/1 for the joint\n",
      "#(global reference) position of joint must be related to local size of rigid bodies\n",
      "mbs.CreateRevoluteJoint(bodyNumbers=[oGround, b1], position=[xOff,yOff,0], axis=[0,0,1], #rotation along global z-axis\n",
      "                        useGlobalFrame=True, axisRadius=0.02, axisLength=0.14)\n",
      "\n",
      "mbs.CreateRevoluteJoint(bodyNumbers=[b1, b2], position=[xOff+a,yOff-b,0], axis=[0,0,1], #rotation along global z-axis\n",
      "                        useGlobalFrame=True, axisRadius=0.02, axisLength=0.14)\n",
      "\n",
      "#create prismatic joint with following args:\n",
      "    # name: name string for joint; markers get Marker0:name and Marker1:name\n",
      "    # bodyNumbers: a list of object numbers for body0 and body1; must be rigid body or ground object\n",
      "    # position: a 3D vector as list or np.array: if useGlobalFrame=True it describes the global position of the joint in reference configuration; else: local position in body0\n",
      "    # axis: a 3D vector as list or np.array containing the global translation axis of the joint in reference configuration\n",
      "    # useGlobalFrame: if False, the point and axis vectors are defined in the local coordinate system of body0\n",
      "    # show: if True, connector visualization is drawn\n",
      "    # axisRadius: radius of axis for connector graphical representation\n",
      "    # axisLength: length of axis for connector graphical representation\n",
      "    # color: color of connector\n",
      "#returns list [oJoint, mBody0, mBody1], containing the joint object number, and the two rigid body markers on body0/1 for the joint\n",
      "# mbs.CreatePrismaticJoint(bodyNumbers=[oGround, b1], position=[-0.5,0,0], axis=[1,0,0], #can move in global x-direction\n",
      "#                          useGlobalFrame=True, axisRadius=0.02, axisLength=1)\n",
      "\n",
      "\n",
      "#prepare mbs for simulation:\n",
      "mbs.Assemble()\n",
      "#some simulation parameters:\n",
      "simulationSettings = exu.SimulationSettings() #takes currently set values or default values\n",
      "simulationSettings.timeIntegration.numberOfSteps = 1000\n",
      "simulationSettings.timeIntegration.endTime = 5\n",
      "\n",
      "#for redundant constraints, the following two settings:\n",
      "simulationSettings.linearSolverSettings.ignoreSingularJacobian=True\n",
      "simulationSettings.linearSolverType = exu.LinearSolverType.EigenDense #use EigenSparse for larger systems alternatively\n",
      "\n",
      "mbs.SolveDynamic(simulationSettings)\n",
      "\n",
      "#visualize results after simulation:\n",
      "mbs.SolutionViewer()\n",
      "\n",
      "Using the previous information and the already existing information on Python code Exudyn, create a 3-link system of rigid bodies initially aligned along the X-axis with mass 10kg, length 2m and W=H=0.1 m. The rigid bodies are exposed to gravity which acts in Y-direction and the first link is attached to ground with a revolute joint at the left end. Add a prismatic joint to the last link. \n",
      "\n"
     ]
    }
   ],
   "source": [
    "dt_total, nTokensTotal = 0, 0\n",
    "with open(\"ContextGeneral.txt\", \"r\") as file:\n",
    "    # Read all lines into a list\n",
    "    lines = file.readlines()\n",
    "with open(\"promptSliderCrank.txt\", \"r\") as file:\n",
    "    myPrompt = file.read()\n",
    "    \n",
    "myContext  = \"\".join(lines[31:])\n",
    "print(myContext)\n",
    "print(myPrompt)"
   ]
  },
  {
   "cell_type": "markdown",
   "id": "3d10b6a4-d910-4e07-9288-b9692477d0a6",
   "metadata": {
    "editable": true,
    "slideshow": {
     "slide_type": "slide"
    },
    "tags": []
   },
   "source": [
    "### Create Output\n",
    "Start inference with one of the shown models.  \n",
    "Here, the context can be given either as a system prompt or as part of the content.  "
   ]
  },
  {
   "cell_type": "code",
   "execution_count": 5,
   "id": "00a9491e-0267-4773-8930-0ed2c7257182",
   "metadata": {
    "editable": true,
    "slideshow": {
     "slide_type": ""
    },
    "tags": []
   },
   "outputs": [],
   "source": [
    "t1 = time.time()\n",
    "response = client.chat.completions.create(\n",
    "          # model='gpt-4o-2024-08-06',\n",
    "          # model='o3-mini',\n",
    "          model = 'gpt-4.1-mini-2025-04-14',\n",
    "          messages=[\n",
    "            {\"role\": \"system\", \"content\": myContext},\n",
    "            {\"role\": \"user\", \"content\":  myPrompt}\n",
    "          ], \n",
    "          store=False, \n",
    "        )  \n",
    "dt = time.time() - t1\n",
    "responseDict = response.to_dict(mode='json') # choose formatting"
   ]
  },
  {
   "cell_type": "markdown",
   "id": "afce55b0-4bee-48d8-9f30-388bc9f13102",
   "metadata": {
    "editable": true,
    "slideshow": {
     "slide_type": "slide"
    },
    "tags": []
   },
   "source": [
    "### Inspect the Response\n",
    "The response contains, in addition to the output itself, also a lot of other information: which model was used, type of input, tokens created, etc.  \n",
    "The output (string) is part of the choices. The tokens/second depend on the model and might fluctuate with the \"mini\" and \"nano\" models being faster than the larger ones. \n"
   ]
  },
  {
   "cell_type": "code",
   "execution_count": 6,
   "id": "11853f9b-8df0-4fc4-9825-d9c09fa77673",
   "metadata": {
    "editable": true,
    "scrolled": true,
    "slideshow": {
     "slide_type": ""
    },
    "tags": []
   },
   "outputs": [
    {
     "name": "stdout",
     "output_type": "stream",
     "text": [
      "created 2055 tokens in 24.4 seconds | 84.32 tokens/second\n",
      "\n",
      "id :  chatcmpl-BrREo3FWCSSY4dIL23VeA3VixLUPP \n",
      "\n",
      "choices :  [Choice(finish_reason='stop', index=0, logprobs=None, message=ChatCompletionMessage(content=\"Based on your request and the previous information, I provide Python code to create a 3-link system of rigid bodies in Exudyn. The parameters are: each rigid body mass = 10 kg, length = 2 m along X, width and height = 0.1 m, gravity acts in -Y direction, first link attached to ground via revolute joint at left end, and a prismatic joint attached to the last link.\\n\\nHere's the full code with explanations and usage of the provided functions:\\n\\n```python\\nimport exudyn as exu\\nfrom exudyn.utilities import *  # for inertia and rotation functions\\nimport exudyn.graphics as graphics\\nimport numpy as np\\nfrom math import pi\\n\\nSC = exu.SystemContainer()\\nmbs = SC.AddSystem()\\n\\n# Ground plane visualization (optional)\\ngGround0 = graphics.CheckerBoard(point=[3,0,-2], normal=[0,0,1], size=10)\\noGround = mbs.CreateGround(graphicsDataList=[gGround0])\\n\\n# Rigid body parameters\\nmass = 10         # kg\\nlength = 2        # m, along X-axis\\nwidth = 0.1       # m (Z direction)\\nheight = 0.1      # m (Y direction)\\n\\n# Calculate density to get mass = 10kg using volume = length*height*width\\nvolume = length * height * width\\ndensity = mass / volume\\n\\n# Define graphics object (centered at origin)\\ngraphicsCube = graphics.Brick(centerPoint=[0,0,0], size=[length, height, width], color=graphics.color.orange)\\n\\n# Define inertia based on cuboid with given density and dimensions\\ninertiaCube = InertiaCuboid(density=density, sideLengths=[length, height, width])\\n\\n# Gravity vector acting in negative Y direction\\ngravity = [0, -9.81, 0]\\n\\n# Create links: 3 links placed along X-axis, initial positions at multiples of length\\nlinks = []\\nfor i in range(3):\\n    # Reference position is at the center of the link,\\n    # so for link i, center position along X = length/2 + i*length\\n    refPos = [length/2 + i*length, 0, 0]\\n\\n    b = mbs.CreateRigidBody(inertia=inertiaCube,\\n                            referencePosition=refPos,\\n                            gravity=gravity,\\n                            graphicsDataList=[graphicsCube])\\n    links.append(b)\\n\\n# Create revolute joint connecting first link to ground at left end (X=0, Y=0, Z=0)\\n# Revolute joint axis along global Z axis (out of XY plane)\\nmbs.CreateRevoluteJoint(bodyNumbers=[oGround, links[0]], position=[0,0,0], axis=[0,0,1],\\n                        useGlobalFrame=True, axisRadius=0.02, axisLength=0.14)\\n\\n# Create revolute joints between link 0-1 and link 1-2 at their connecting ends\\n# Joint position for link0-link1: at end of link0 is at X= length*i = 2m; Y=Z=0\\nmbs.CreateRevoluteJoint(bodyNumbers=[links[0], links[1]], position=[length,0,0], axis=[0,0,1],\\n                        useGlobalFrame=True, axisRadius=0.02, axisLength=0.14)\\nmbs.CreateRevoluteJoint(bodyNumbers=[links[1], links[2]], position=[2*length,0,0], axis=[0,0,1],\\n                        useGlobalFrame=True, axisRadius=0.02, axisLength=0.14)\\n\\n# Add a prismatic joint at the end of the last link (link 2)\\n# Let's say it can translate along global X axis; position is the right end of link 2: X = 3*length, Y=0,Z=0\\nmbs.CreatePrismaticJoint(bodyNumbers=[links[2], oGround], position=[3*length,0,0], axis=[1,0,0],\\n                         useGlobalFrame=True, axisRadius=0.02, axisLength=0.14)\\n\\n# Assemble the system and prepare simulation settings\\nmbs.Assemble()\\n\\nsimulationSettings = exu.SimulationSettings()\\nsimulationSettings.timeIntegration.numberOfSteps = 1000\\nsimulationSettings.timeIntegration.endTime = 5\\n\\nsimulationSettings.linearSolverSettings.ignoreSingularJacobian = True\\nsimulationSettings.linearSolverType = exu.LinearSolverType.EigenDense\\n\\n# Solve dynamic\\nmbs.SolveDynamic(simulationSettings)\\n\\n# Visualize results\\nmbs.SolutionViewer()\\n```\\n\\n### Explanation of key parts:\\n- Links are created as rectangular cuboids with center at half length plus multiples of length in X.\\n- Revolute joints connect each pair of consecutive links and first link to ground.\\n- Revolute axis is global Z-axis to rotate in XY plane.\\n- Prismatic joint connects last link to ground at last link's right end allowing translation along X.\\n- Gravity acts downward in Y direction.\\n- Visualization uses orange color for links.\\n- The prismatic joint is connected between last link and ground (instead of another body) allowing translational DOF of the end.\\n\\nYou can customize gravity, colors, joint parameters, etc., as needed.\", refusal=None, role='assistant', annotations=[], audio=None, function_call=None, tool_calls=None))] \n",
      "\n",
      "created :  1752075786 \n",
      "\n",
      "model :  gpt-4.1-mini-2025-04-14 \n",
      "\n",
      "object :  chat.completion \n",
      "\n",
      "service_tier :  default \n",
      "\n",
      "system_fingerprint :  fp_6f2eabb9a5 \n",
      "\n",
      "usage :  CompletionUsage(completion_tokens=1109, prompt_tokens=2055, total_tokens=3164, completion_tokens_details=CompletionTokensDetails(accepted_prediction_tokens=0, audio_tokens=0, reasoning_tokens=0, rejected_prediction_tokens=0), prompt_tokens_details=PromptTokensDetails(audio_tokens=0, cached_tokens=0)) \n",
      "\n"
     ]
    }
   ],
   "source": [
    "nTokens =  responseDict['usage']['prompt_tokens']\n",
    "print('created {} tokens in {} seconds | {} tokens/second\\n'.format(nTokens, round(dt, 1), round(nTokens/dt, 2)))\n",
    "\n",
    "for key, value in dict(response).items(): \n",
    "        print(key, ': ', value, '\\n')\n",
    "    "
   ]
  },
  {
   "cell_type": "markdown",
   "id": "8d6336fa-f80a-445d-8ed4-a31c2b1f7922",
   "metadata": {
    "editable": true,
    "slideshow": {
     "slide_type": "slide"
    },
    "tags": []
   },
   "source": [
    "Multiple ```choices``` could be part of the response, but in our case it should only be a single one.  "
   ]
  },
  {
   "cell_type": "code",
   "execution_count": 7,
   "id": "4e721ca8-3d34-4c5e-9c05-951d4419de99",
   "metadata": {
    "editable": true,
    "scrolled": true,
    "slideshow": {
     "slide_type": ""
    },
    "tags": []
   },
   "outputs": [
    {
     "name": "stdout",
     "output_type": "stream",
     "text": [
      "Based on your request and the previous information, I provide Python code to create a 3-link system of rigid bodies in Exudyn. The parameters are: each rigid body mass = 10 kg, length = 2 m along X, width and height = 0.1 m, gravity acts in -Y direction, first link attached to ground via revolute joint at left end, and a prismatic joint attached to the last link.\n",
      "\n",
      "Here's the full code with explanations and usage of the provided functions:\n",
      "\n",
      "```python\n",
      "import exudyn as exu\n",
      "from exudyn.utilities import *  # for inertia and rotation functions\n",
      "import exudyn.graphics as graphics\n",
      "import numpy as np\n",
      "from math import pi\n",
      "\n",
      "SC = exu.SystemContainer()\n",
      "mbs = SC.AddSystem()\n",
      "\n",
      "# Ground plane visualization (optional)\n",
      "gGround0 = graphics.CheckerBoard(point=[3,0,-2], normal=[0,0,1], size=10)\n",
      "oGround = mbs.CreateGround(graphicsDataList=[gGround0])\n",
      "\n",
      "# Rigid body parameters\n",
      "mass = 10         # kg\n",
      "length = 2        # m, along X-axis\n",
      "width = 0.1       # m (Z direction)\n",
      "height = 0.1      # m (Y direction)\n",
      "\n",
      "# Calculate density to get mass = 10kg using volume = length*height*width\n",
      "volume = length * height * width\n",
      "density = mass / volume\n",
      "\n",
      "# Define graphics object (centered at origin)\n",
      "graphicsCube = graphics.Brick(centerPoint=[0,0,0], size=[length, height, width], color=graphics.color.orange)\n",
      "\n",
      "# Define inertia based on cuboid with given density and dimensions\n",
      "inertiaCube = InertiaCuboid(density=density, sideLengths=[length, height, width])\n",
      "\n",
      "# Gravity vector acting in negative Y direction\n",
      "gravity = [0, -9.81, 0]\n",
      "\n",
      "# Create links: 3 links placed along X-axis, initial positions at multiples of length\n",
      "links = []\n",
      "for i in range(3):\n",
      "    # Reference position is at the center of the link,\n",
      "    # so for link i, center position along X = length/2 + i*length\n",
      "    refPos = [length/2 + i*length, 0, 0]\n",
      "\n",
      "    b = mbs.CreateRigidBody(inertia=inertiaCube,\n",
      "                            referencePosition=refPos,\n",
      "                            gravity=gravity,\n",
      "                            graphicsDataList=[graphicsCube])\n",
      "    links.append(b)\n",
      "\n",
      "# Create revolute joint connecting first link to ground at left end (X=0, Y=0, Z=0)\n",
      "# Revolute joint axis along global Z axis (out of XY plane)\n",
      "mbs.CreateRevoluteJoint(bodyNumbers=[oGround, links[0]], position=[0,0,0], axis=[0,0,1],\n",
      "                        useGlobalFrame=True, axisRadius=0.02, axisLength=0.14)\n",
      "\n",
      "# Create revolute joints between link 0-1 and link 1-2 at their connecting ends\n",
      "# Joint position for link0-link1: at end of link0 is at X= length*i = 2m; Y=Z=0\n",
      "mbs.CreateRevoluteJoint(bodyNumbers=[links[0], links[1]], position=[length,0,0], axis=[0,0,1],\n",
      "                        useGlobalFrame=True, axisRadius=0.02, axisLength=0.14)\n",
      "mbs.CreateRevoluteJoint(bodyNumbers=[links[1], links[2]], position=[2*length,0,0], axis=[0,0,1],\n",
      "                        useGlobalFrame=True, axisRadius=0.02, axisLength=0.14)\n",
      "\n",
      "# Add a prismatic joint at the end of the last link (link 2)\n",
      "# Let's say it can translate along global X axis; position is the right end of link 2: X = 3*length, Y=0,Z=0\n",
      "mbs.CreatePrismaticJoint(bodyNumbers=[links[2], oGround], position=[3*length,0,0], axis=[1,0,0],\n",
      "                         useGlobalFrame=True, axisRadius=0.02, axisLength=0.14)\n",
      "\n",
      "# Assemble the system and prepare simulation settings\n",
      "mbs.Assemble()\n",
      "\n",
      "simulationSettings = exu.SimulationSettings()\n",
      "simulationSettings.timeIntegration.numberOfSteps = 1000\n",
      "simulationSettings.timeIntegration.endTime = 5\n",
      "\n",
      "simulationSettings.linearSolverSettings.ignoreSingularJacobian = True\n",
      "simulationSettings.linearSolverType = exu.LinearSolverType.EigenDense\n",
      "\n",
      "# Solve dynamic\n",
      "mbs.SolveDynamic(simulationSettings)\n",
      "\n",
      "# Visualize results\n",
      "mbs.SolutionViewer()\n",
      "```\n",
      "\n",
      "### Explanation of key parts:\n",
      "- Links are created as rectangular cuboids with center at half length plus multiples of length in X.\n",
      "- Revolute joints connect each pair of consecutive links and first link to ground.\n",
      "- Revolute axis is global Z-axis to rotate in XY plane.\n",
      "- Prismatic joint connects last link to ground at last link's right end allowing translation along X.\n",
      "- Gravity acts downward in Y direction.\n",
      "- Visualization uses orange color for links.\n",
      "- The prismatic joint is connected between last link and ground (instead of another body) allowing translational DOF of the end.\n",
      "\n",
      "You can customize gravity, colors, joint parameters, etc., as needed.\n"
     ]
    }
   ],
   "source": [
    "for i in range(len(response.choices)): \n",
    "    res = response.choices[i]\n",
    "    print(res.message.content)\n",
    "    strOutput = res.message.content"
   ]
  },
  {
   "cell_type": "markdown",
   "id": "c93c25aa-d072-4e5d-86a0-e6fced8f3bfb",
   "metadata": {
    "editable": true,
    "slideshow": {
     "slide_type": "slide"
    },
    "tags": []
   },
   "source": [
    "### Extract Code\n",
    "The model (usually) not only outputs the code itself, but also some explanation before and/or afterwards.  \n",
    "The code itself should be put between the ```python``` tag by the model as shown below, although not all models might follow this convention. \n"
   ]
  },
  {
   "cell_type": "code",
   "execution_count": 8,
   "id": "04feb384-60fc-4740-b238-b96d4bac2f66",
   "metadata": {
    "editable": true,
    "slideshow": {
     "slide_type": ""
    },
    "tags": []
   },
   "outputs": [
    {
     "name": "stdout",
     "output_type": "stream",
     "text": [
      "columns imported = [21, 21, 21, 0, 0, 23, 0]\n",
      "total columns to be imported = 86 , array size of file = 87\n"
     ]
    }
   ],
   "source": [
    "flagExtractedCode = False\n",
    "try: \n",
    "    code = strOutput.split(\"```python\")[1].split(\"```\")[0]\n",
    "    flagExtractedCode = True \n",
    "except: \n",
    "    print('Model did not use ```python to mark code. Trying \"python3\". ')\n",
    "\n",
    "if not(flagExtractedCode): \n",
    "    try: \n",
    "        code = strOutput.split(\"python3\")[1].split(\"--------------------------\")[0]\n",
    "        flagExtractedCode = True\n",
    "    except: \n",
    "        print('Model did not use python3 mark either.')\n",
    "\n",
    "CheckOutputLLM(code)\n",
    "\n",
    "if flagExtractedCode: \n",
    "    exec(code)\n",
    "else: \n",
    "    print('code could not be extracted from model output')"
   ]
  },
  {
   "cell_type": "markdown",
   "id": "b0096a9b-71b1-4717-ba7d-e7698f8496ac",
   "metadata": {
    "editable": true,
    "slideshow": {
     "slide_type": ""
    },
    "tags": []
   },
   "source": [
    "Note: A common error of the LLM in this task is to _hallucinate_ color options which are not available, for example _skyblue_. \n",
    "Optional task: change the prompt to create a more _meaningful_ mechanism.  "
   ]
  }
 ],
 "metadata": {
  "kernelspec": {
   "display_name": "Python 3 (ipykernel)",
   "language": "python",
   "name": "python3"
  },
  "language_info": {
   "codemirror_mode": {
    "name": "ipython",
    "version": 3
   },
   "file_extension": ".py",
   "mimetype": "text/x-python",
   "name": "python",
   "nbconvert_exporter": "python",
   "pygments_lexer": "ipython3",
   "version": "3.11.10"
  }
 },
 "nbformat": 4,
 "nbformat_minor": 5
}
