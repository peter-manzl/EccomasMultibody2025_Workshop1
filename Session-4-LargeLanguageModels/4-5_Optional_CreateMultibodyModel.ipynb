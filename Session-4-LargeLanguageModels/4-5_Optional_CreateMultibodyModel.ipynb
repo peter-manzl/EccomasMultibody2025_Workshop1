{
 "cells": [
  {
   "cell_type": "markdown",
   "id": "adac17de-fdc6-45d3-8785-5b56d0ba3b02",
   "metadata": {
    "editable": true,
    "slideshow": {
     "slide_type": "slide"
    },
    "tags": []
   },
   "source": [
    "### Creation of Multibody Models\n",
    "\n",
    "As previously shown, we can also use the GPT4ALL interface for running a local LLM to create a more complex multibody model. Another popular option is Llama.cpp, which also provides a Python [library](https://pypi.org/project/llama-cpp-python/).  \n",
    "Note: Llama.cpp requires a C compiler when using  \n",
    "```pip install llama-cpp-python```. "
   ]
  },
  {
   "cell_type": "code",
   "execution_count": 1,
   "id": "204896bc-a3bf-4036-86b2-18a9b32f6fa6",
   "metadata": {
    "editable": true,
    "slideshow": {
     "slide_type": ""
    },
    "tags": []
   },
   "outputs": [
    {
     "name": "stdout",
     "output_type": "stream",
     "text": [
      "running model on GPU\n"
     ]
    }
   ],
   "source": [
    "from gpt4all import GPT4All\n",
    "from transformers import AutoTokenizer\n",
    "from huggingface_hub import hf_hub_download\n",
    "import torch # only used to check if cuda is available\n",
    "import time\n",
    "import os\n",
    "\n",
    "flagSmall = False\n",
    "\n",
    "if flagSmall: # approx 2.4GB\n",
    "    repo_id = 'microsoft/phi-3-mini-4k-instruct-gguf'\n",
    "    filename =  \"Phi-3-mini-4k-instruct-q4.gguf\"\n",
    "else: # approx 8.4 GB\n",
    "    repo_id = \"bartowski/phi-4-GGUF\"\n",
    "    filename = \"phi-4-Q4_K_S.gguf\"\n",
    "    \n",
    "modelPath = hf_hub_download(repo_id=repo_id, filename=filename)\n",
    "try: \n",
    "    # configure to support a context length of 16k tokens\n",
    "    model = GPT4All(modelPath, device='cuda', n_ctx=16384)  \n",
    "    print('running model on GPU')\n",
    "except: \n",
    "    model = GPT4All(modelPath, device='cpu', n_ctx=16384)\n",
    "    print('running model on CPU')\n",
    "\n"
   ]
  },
  {
   "cell_type": "markdown",
   "id": "eec0f933-1fee-4282-bf76-0903e9e5aa6c",
   "metadata": {
    "editable": true,
    "slideshow": {
     "slide_type": "slide"
    },
    "tags": []
   },
   "source": [
    "### Providing Context\n",
    " \n",
    "We want to use Exudyn - our in-house multibody simulation tool. Note that the same strategy is also possible with other tools.  \n",
    "The context is already prepared in a separate file. \n"
   ]
  },
  {
   "cell_type": "code",
   "execution_count": 2,
   "id": "a8eeaff8-8a41-4f1f-a774-1a71031934b7",
   "metadata": {
    "editable": true,
    "slideshow": {
     "slide_type": ""
    },
    "tags": []
   },
   "outputs": [
    {
     "name": "stdout",
     "output_type": "stream",
     "text": [
      "#In the following, there are examples to create multibody systems in Exudyn and also important notes about the interface.\n",
      "#NOTE: mbs.Create...(...) calls several functions in the background to create nodes, objects, markers and loads in Exudyn.\n",
      "#most quantities such as initial or reference positions and velocities are giving as 3D lists [x,y,z] for positions, velocities, ....\n",
      "#rotations are usually given as rotation matrix (3x3 numpy array); \n",
      "#RotationVector2RotationMatrix([rotX, rotY, rotZ]) computes a rotation around the global x,y,z rotation axis\n",
      "#for working with rigid bodies, note that there is always a local coordinate system in the body, \n",
      "#which can be used to define the location of position and orientation of joints, see the examples.\n",
      "    \n",
      "#%%++++++++++++++++++++++++++++++++++++++++++++++++++++\n",
      "#create rigid bodies and mass points with distance constraint and joints\n",
      "import exudyn as exu\n",
      "from exudyn.utilities import * #includes itemInterface and rigidBodyUtilities\n",
      "import exudyn....\n",
      "\n"
     ]
    }
   ],
   "source": [
    "# Open the file in read mode and save its content to the variable 'data'\n",
    "with open(\"ContextGeneral.txt\", \"r\") as file:\n",
    "    # Read all lines into a list\n",
    "    lines = file.readlines()\n",
    "\n",
    "# Extract lines from line 30 onwards (index 29 because indexing starts at 0)\n",
    "myData = lines[31:]\n",
    "myContext = \"\".join(myData)\n",
    "\n",
    "# Print the content from line 30 onwards\n",
    "print(myContext[:1000] + '...\\n')"
   ]
  },
  {
   "cell_type": "markdown",
   "id": "f8059296-f60a-45d5-8a08-78ecfd614f44",
   "metadata": {
    "editable": true,
    "slideshow": {
     "slide_type": "slide"
    },
    "tags": []
   },
   "source": [
    "Next we need a description of the desired output.  "
   ]
  },
  {
   "cell_type": "code",
   "execution_count": 3,
   "id": "de94dec4-7630-4aae-b273-bc6590e9f096",
   "metadata": {
    "editable": true,
    "slideshow": {
     "slide_type": ""
    },
    "tags": []
   },
   "outputs": [],
   "source": [
    "prompt = 'Using the previous information and the already existing information on Python code Exudyn, ' + \\\n",
    "        ' create a 3-link system of rigid bodies initially aligned along the X-axis with mass 10kg, length 2m and W=H=0.1 m. ' + \\\n",
    "        ' The rigid bodies are exposed to gravity which acts in Y-direction and the first link is attached to ground with a revolute joint at the left end. '  \n"
   ]
  },
  {
   "cell_type": "code",
   "execution_count": 4,
   "id": "7e43c583-c2cb-4278-96dd-46e835d710d7",
   "metadata": {
    "editable": true,
    "scrolled": true,
    "slideshow": {
     "slide_type": ""
    },
    "tags": []
   },
   "outputs": [
    {
     "name": "stdout",
     "output_type": "stream",
     "text": [
      "Number of tokens: 2031\n",
      "Tokens: [2, 644, 279, 2768, 11, 1070, 527, 10507, 311, 1893, 2814, 581, 1094, 6067, 304, 1398, 664, 1910, 323, 1101, 3062, 8554, 922, 279, 3834, 627, 2, 28892, 25, 296, 1302, 7399, 1131, 48627, 6880, 3892, 5865, 304, 279, 4092, 311, 1893, 7954, 11, 6302, 11, 24915, 323, 21577, 304, 1398, 664, 1910, 627, 2, 3646, 33776, 1778, 439, 2926, 477, 5905, 10093, 323, 75157, 527, 7231, 439, 220, 18, 35, 11725, 510, 87, 7509, 23500, 60, 369, 10093, 11, 75157, 11, 22666, 198, 2, 4744, 811, 527, 6118, 2728, 439, 12984, 6303, 320, 18, 87, 18, 8760, 1358, 1237, 720, 2, 18947, 3866, 17, 18947, 6828, 2625, 4744, 55, 11, 5868, 56, 11, 5868, 57, 2526, 58303, 264, 12984, 2212, 279, 3728, 865, 7509, 23500, 12984, 8183, 198, 81517, 3318, 449, 33956, 13162, 11, 5296, 430, 1070, 374, 2744, 264, 2254, 16580, 1887, 304, 279, 2547, 11, 720, 2, 8370, 649, 387, 1511, 311, 7124, 279, 3813, 315, 2361, 323, 17140, 315, 35358, 11, 1518, 279, 10507, 627, 1084, 94335, 89255, 46253, 14907, 198, 79137, 33956, 13162, 323, 3148, 3585, 449, 6138, 22295, 323, 35358, 198, 475, 506, 664, 1910, 439, 506, 84, 198, 1527, 506, 664, 1910, 63795, 1179, 353, 674, 14866, 1537, 5160, 323, 33956, 5561, 22830, 198, 475, 506, 664, 1910, 14979, 439, 14515, 674, 3323, 1179, 422, 433, 1587, 539, 12324, 198, 475, 8760, 439, 2660, 198, 3624, 284, 506, 84, 17031, 4603, 746, 76, 1302, 284, 7683, 1943, 2374, 368, 674, 3261, 264, 4802, 2374, 364, 76, 1302, 6, 311, 990, 449, 271, 2, 32785, 828, 369, 42015, 2541, 4092, 320, 1962, 2631, 997, 70, 31814, 15, 284, 14515, 10823, 261, 12198, 20848, 5941, 18, 11, 15, 5106, 17, 1145, 4725, 5941, 15, 11, 15, 11, 16, 1145, 1404, 28, 605, 340, 2, 723, 5015, 1665, 323, 4092, 14515, 26, 42148, 374, 10309, 198, 78, 31814, 284, 296, 1302, 7399, 31814, 25301, 1233, 1061, 861, 5941, 70, 31814, 15, 9801, 79137, 264, 24671, 449, 3160, 445, 320, 55, 34149, 705, 2673, 473, 320, 56, 8, 323, 2430, 468, 320, 57, 340, 43, 28, 16, 198, 39, 28, 15, 13, 17, 198, 54, 28, 15, 13, 16, 198, 81517, 42148, 315, 279, 24671, 11, 584, 7124, 264, 14515, 1665, 304, 279, 2768, 198, 32785, 44429, 284, 14515, 1823, 12938, 42616, 2674, 284, 510, 15, 11, 15, 11, 15, 1145, 674, 10179, 430, 4219, 2674, 374, 304, 279, 2254, 16580, 1887, 26, 2006, 80199, 39419, 50, 10245, 28832, 7354, 7520, 510, 15, 11, 15, 11, 15, 933, 10724, 1404, 5941, 43, 44639, 50640, 1145, 1933, 28, 32785, 8120, 79520, 340, 2, 28477, 61761, 2913, 1753, 25, 14515, 44429, 6118, 1288, 617, 4219, 2674, 5941, 15, 11, 15, 11, 15, 60, 422, 1511, 304, 279, 4324, 49, 70281, 198, 1467, 279, 78552, 315, 420, 24671, 1701, 763, 41222, 34, 392, 590, 449, 17915, 323, 24671, 15696, 26, 58303, 34167, 3148, 11, 7837, 11, 323, 78552, 16000, 512, 258, 41222, 44429, 284, 763, 41222, 34, 392, 590, 1528, 8127, 28, 2636, 15, 11, 3185, 4472, 82, 5941, 43, 44639, 50640, 9801, 79137, 4382, 33956, 2547, 198, 2, 10179, 430, 14515, 374, 2744, 12673, 311, 5905, 1486, 315, 2547, 11, 902, 374, 555, 1670, 279, 7837, 198, 2, 32785, 44429, 374, 3779, 311, 5905, 1486, 315, 279, 33956, 2547, 11, 1618, 433, 374, 6273, 311, 279, 4219, 315, 3148, 320, 8867, 997, 65, 15, 284, 296, 1302, 7399, 49, 70281, 94701, 284, 78552, 44429, 345, 5218, 5905, 3897, 284, 510, 15, 13, 20, 87613, 11, 15, 11, 15, 1145, 674, 16690, 2361, 865, 27589, 32182, 315, 7837, 198, 5218, 5905, 18947, 6828, 28, 18947, 3866, 17, 18947, 6828, 2625, 15, 11, 15, 11, 2554, 9, 15, 13, 20, 17473, 5218, 2926, 69459, 25154, 5941, 17, 11, 15, 11, 15, 1282, 5218, 2926, 25154, 5941, 15, 11, 19, 11, 15, 1282, 5218, 24128, 284, 510, 15, 5106, 24, 13, 5932, 11, 15, 1282, 5218, 14515, 1061, 861, 284, 510, 32785, 44429, 9801, 2, 723, 459, 2865, 449, 1217, 734, 512, 755, 69692, 9009, 1278, 1302, 11, 259, 11, 2865, 3866, 997, 262, 674, 1312, 892, 43918, 734, 512, 262, 471, 320, 605, 10, 20, 40105, 16719, 1175, 9, 605, 9, 17, 44557, 32970, 6331, 7382, 50192, 3866, 696, 2, 723, 459, 2865, 449, 220, 605, 45, 304, 865, 34149, 311, 33956, 2547, 520, 11381, 2361, 198, 2, 723, 1217, 734, 311, 5719, 2865, 304, 892, 198, 76, 1302, 7399, 19085, 15582, 2903, 22861, 15, 345, 394, 2254, 3897, 5941, 12, 15, 13, 20, 87613, 11, 15, 11, 15, 1282, 394, 2865, 3866, 5941, 605, 11, 15, 11, 15, 1282, 394, 2865, 3866, 1502, 5263, 28, 21180, 9009, 696, 2, 723, 42131, 311, 33956, 2547, 520, 2163, 842, 198, 76, 1302, 7399, 33450, 593, 15582, 2903, 22861, 15, 11, 2254, 3897, 5941, 15, 13, 20, 11, 15, 11, 15, 1282, 394, 2865, 3866, 5941, 15, 11, 16, 11, 15, 2526, 674, 11222, 593, 315, 220, 16, 45, 2212, 379, 36421, 271, 79137, 264, 33956, 6138, 1990, 2254, 2361, 315, 13162, 320, 269, 5015, 8, 477, 1990, 7954, 198, 76, 1302, 7399, 15121, 18372, 15582, 2244, 1997, 861, 5941, 78, 31814, 11, 293, 15, 1145, 720, 6663, 2254, 3897, 15, 284, 510, 220, 15, 13, 1174, 15, 11, 15, 1282, 6663, 2254, 3897, 16, 284, 10261, 15, 13, 20, 11, 15, 11, 15, 1282, 6663, 6138, 5980, 11, 674, 28172, 7167, 25157, 198, 6663, 4128, 1730, 28, 15, 13, 2705, 696, 2, 713, 4512, 12381, 5137, 315, 1403, 4726, 13162, 198, 64, 28, 16, 198, 65, 28, 17, 198, 87, 4699, 284, 220, 16, 674, 3255, 304, 865, 34149, 369, 1176, 2547, 198, 88, 4699, 284, 12, 15, 13, 20, 674, 3255, 304, 379, 34149, 315, 1176, 2547, 271, 79137, 264, 2132, 14515, 1665, 198, 32785, 44429, 17, 284, 14515, 1823, 12938, 42616, 2674, 284, 510, 15, 11, 15, 11, 15, 1145, 720, 10724, 1404, 5941, 64, 8568, 11, 15, 13, 16, 1145, 1933, 28, 32785, 8120, 28084, 340, 258, 41222, 44429, 17, 284, 763, 41222, 34, 392, 590, 1528, 8127, 28, 2636, 15, 11, 3185, 4472, 82, 5941, 64, 8568, 11, 15, 13, 16, 9801, 79137, 2500, 33956, 2547, 449, 1023, 15696, 198, 65, 16, 284, 296, 1302, 7399, 49, 70281, 94701, 284, 78552, 44429, 17, 345, 3586, 5905, 3897, 284, 510, 87, 4699, 10, 15, 13, 20, 34842, 7509, 4699, 12, 15, 13, 20, 34379, 11, 15, 1145, 674, 16690, 2361, 315, 2547, 510, 55, 30533, 51932, 933, 3586, 24128, 284, 510, 15, 5106, 24, 13, 5932, 11, 15, 1282, 3586, 14515, 1061, 861, 284, 510, 32785, 44429, 17, 9801, 79137, 2500, 33956, 2547, 449, 1890, 15696, 439, 293, 16, 198, 65, 17, 284, 296, 1302, 7399, 49, 70281, 94701, 284, 78552, 44429, 17, 345, 3586, 5905, 3897, 284, 510, 87, 4699, 10, 15, 13, 20, 34842, 57939, 7509, 4699, 12, 15, 13, 20, 34379, 1481, 11, 15, 1145, 674, 16690, 2361, 315, 2547, 510, 55, 30533, 51932, 933, 3586, 24128, 284, 510, 15, 5106, 24, 13, 5932, 11, 15, 1282, 3586, 14515, 1061, 861, 284, 510, 32785, 44429, 17, 9801, 79137, 5891, 6402, 10496, 449, 2768, 2897, 512, 262, 674, 836, 25, 836, 925, 369, 10496, 26, 24915, 636, 40975, 15, 58620, 323, 40975, 16, 58620, 198, 262, 674, 2547, 28336, 25, 264, 1160, 315, 1665, 5219, 369, 2547, 15, 323, 2547, 16, 26, 2011, 387, 33956, 2547, 477, 5015, 1665, 198, 262, 674, 2361, 25, 264, 220, 18, 35, 4724, 439, 1160, 477, 2660, 7382, 25, 422, 1005, 11907, 4467, 3702, 433, 16964, 279, 3728, 2361, 315, 279, 10496, 304, 5905, 6683, 26, 775, 25, 2254, 2361, 304, 2547, 15, 198, 262, 674, 8183, 25, 264, 220, 18, 35, 4724, 439, 1160, 477, 2660, 7382, 25, 422, 1005, 11907, 4467, 3702, 433, 16964, 279, 3728, 12984, 8183, 315, 279, 10496, 304, 5905, 6683, 26, 775, 25, 2254, 8183, 304, 2547, 15, 198, 262, 674, 1501, 25, 422, 3082, 11, 28087, 42148, 374, 15107, 198, 262, 674, 8183, 8453, 25, 10801, 315, 8183, 369, 28087, 54243, 13340, 198, 262, 674, 8183, 4472, 25, 3160, 315, 8183, 369, 28087, 54243, 13340, 198, 262, 674, 1933, 25, 1933, 315, 28087, 198, 2, 4110, 37284, 6402, 42097, 4780, 1160, 510, 78, 42097, 11, 296, 5561, 15, 11, 296, 5561, 16, 1145, 8649, 279, 10496, 1665, 1396, 11, 323, 279, 1403, 33956, 2547, 24915, 389, 2547, 15, 14, 16, 369, 279, 10496, 198, 2, 7, 9951, 5905, 8, 2361, 315, 10496, 2011, 387, 5552, 311, 2254, 1404, 315, 33956, 13162, 198, 76, 1302, 7399, 37284, 6402, 42097, 15582, 28336, 5941, 78, 31814, 11, 293, 16, 1145, 2361, 5941, 87, 4699, 7509, 4699, 11, 15, 1145, 8183, 5941, 15, 11, 15, 11, 16, 1145, 674, 13848, 3235, 3728, 1167, 36421, 198, 667, 1005, 11907, 4467, 3702, 11, 8183, 8453, 28, 15, 13, 2437, 11, 8183, 4472, 28, 15, 13, 975, 696, 76, 1302, 7399, 37284, 6402, 42097, 15582, 28336, 5941, 65, 16, 11, 293, 17, 1145, 2361, 5941, 87, 4699, 57939, 7509, 4699, 1481, 11, 15, 1145, 8183, 5941, 15, 11, 15, 11, 16, 1145, 674, 13848, 3235, 3728, 1167, 36421, 198, 667, 1005, 11907, 4467, 3702, 11, 8183, 8453, 28, 15, 13, 2437, 11, 8183, 4472, 28, 15, 13, 975, 696, 79137, 550, 57245, 10496, 449, 2768, 2897, 512, 262, 674, 836, 25, 836, 925, 369, 10496, 26, 24915, 636, 40975, 15, 58620, 323, 40975, 16, 58620, 198, 262, 674, 2547, 28336, 25, 264, 1160, 315, 1665, 5219, 369, 2547, 15, 323, 2547, 16, 26, 2011, 387, 33956, 2547, 477, 5015, 1665, 198, 262, 674, 2361, 25, 264, 220, 18, 35, 4724, 439, 1160, 477, 2660, 7382, 25, 422, 1005, 11907, 4467, 3702, 433, 16964, 279, 3728, 2361, 315, 279, 10496, 304, 5905, 6683, 26, 775, 25, 2254, 2361, 304, 2547, 15, 198, 262, 674, 8183, 25, 264, 220, 18, 35, 4724, 439, 1160, 477, 2660, 7382, 8649, 279, 3728, 14807, 8183, 315, 279, 10496, 304, 5905, 6683, 198, 262, 674, 1005, 11907, 4467, 25, 422, 3641, 11, 279, 1486, 323, 8183, 23728, 527, 4613, 304, 279, 2254, 16580, 1887, 315, 2547, 15, 198, 262, 674, 1501, 25, 422, 3082, 11, 28087, 42148, 374, 15107, 198, 262, 674, 8183, 8453, 25, 10801, 315, 8183, 369, 28087, 54243, 13340, 198, 262, 674, 8183, 4472, 25, 3160, 315, 8183, 369, 28087, 54243, 13340, 198, 262, 674, 1933, 25, 1933, 315, 28087, 198, 2, 4310, 1160, 510, 78, 42097, 11, 296, 5561, 15, 11, 296, 5561, 16, 1145, 8649, 279, 10496, 1665, 1396, 11, 323, 279, 1403, 33956, 2547, 24915, 389, 2547, 15, 14, 16, 369, 279, 10496, 198, 2, 296, 1302, 7399, 3617, 57245, 42097, 15582, 28336, 5941, 78, 31814, 11, 293, 16, 1145, 2361, 5941, 12, 15, 13, 20, 11, 15, 11, 15, 1145, 8183, 5941, 16, 11, 15, 11, 15, 1145, 674, 4919, 3351, 304, 3728, 865, 34149, 198, 2, 3586, 1005, 11907, 4467, 3702, 11, 8183, 8453, 28, 15, 13, 2437, 11, 8183, 4472, 28, 16, 3707, 2, 13923, 296, 1302, 369, 19576, 512, 76, 1302, 20855, 16167, 746, 2, 15031, 19576, 5137, 512, 84872, 6214, 284, 506, 84, 815, 61461, 6214, 368, 674, 79079, 5131, 743, 2819, 477, 1670, 2819, 198, 84872, 6214, 6512, 53564, 47538, 35051, 284, 220, 1041, 15, 198, 84872, 6214, 6512, 53564, 82109, 284, 220, 20, 271, 81517, 48832, 17413, 11, 279, 2768, 1403, 5110, 512, 84872, 6214, 39105, 64930, 6214, 49708, 50, 42980, 41, 63618, 3702, 198, 84872, 6214, 39105, 64930, 941, 284, 506, 84, 34216, 64930, 941, 5253, 6569, 35, 1137, 674, 817, 25059, 99591, 369, 8294, 6067, 69487, 271, 76, 1302, 815, 4035, 22500, 48860, 2987, 6214, 696, 2, 30318, 553, 3135, 1306, 19576, 512, 76, 1302, 815, 3294, 29371, 13407, 12362, 279, 3766, 2038, 323, 279, 2736, 6484, 2038, 389, 13325, 2082, 1398, 664, 1910, 11, 220, 1893, 264, 220, 18, 9142, 1887, 315, 33956, 13162, 15453, 27210, 3235, 279, 1630, 36421, 449, 3148, 220, 605, 7501, 11, 3160, 220, 17, 76, 323, 468, 28, 39, 28, 15, 13, 16, 296, 13, 220, 578, 33956, 13162, 527, 15246, 311, 24128, 902, 14385, 304, 816, 34149, 323, 279, 1176, 2723, 374, 12673, 311, 5015, 449, 264, 5891, 6402, 10496, 520, 279, 2163, 842, 13, 220]\n"
     ]
    }
   ],
   "source": [
    "strTask = '{}\\n\\n {}'.format(myContext, prompt)\n",
    "\n",
    "# print('model path: ', modelPath, 'length: ', len(modelPath))\n",
    "tokenizer = AutoTokenizer.from_pretrained('microsoft/phi-4')\n",
    "# Tokenize the prompt\n",
    "tokens = tokenizer.encode(strTask, add_special_tokens=False)\n",
    "num_tokens = len(tokens)\n",
    "\n",
    "## Print the tokens and their count\n",
    "print(\"Number of tokens:\", num_tokens)\n",
    "print(\"Tokens:\", tokens)\n",
    "\n",
    "\n",
    "\n"
   ]
  },
  {
   "cell_type": "markdown",
   "id": "b82879c9-789f-4f67-8fa9-f1497654a911",
   "metadata": {
    "editable": true,
    "slideshow": {
     "slide_type": "slide"
    },
    "tags": []
   },
   "source": [
    "### Prompt Formatting\n",
    "The following string can also be copied to chatGPT or Google Gemini. "
   ]
  },
  {
   "cell_type": "code",
   "execution_count": 5,
   "id": "2de203c7-ac21-48aa-8ac5-a2badba8ef52",
   "metadata": {
    "editable": true,
    "scrolled": true,
    "slideshow": {
     "slide_type": ""
    },
    "tags": []
   },
   "outputs": [
    {
     "name": "stdout",
     "output_type": "stream",
     "text": [
      "<|im_start|>system<|im_sep|>\n",
      "<|im_end|>\n",
      "<|im_start|>user<|im_sep|>\n",
      "#In the following, there are examples to create multibody systems in Exudyn and also important notes about the interface.\n",
      "#NOTE: mbs.Create...(...) calls several functions in the background to create nodes, objects, markers and loads in Exudyn.\n",
      "#most quantities such as initial or reference positions and velocities are giving as 3D lists [x,y,z] for positions, velocities, ....\n",
      "#rotations are usually given as rotation matrix (3x3 numpy array); \n",
      "#RotationVector2RotationMatrix([rotX, rotY, rotZ]) computes a rotation around the global x,y,z rotation axis\n",
      "#for working with rigid bodies, note that there is always a local coordinate system in the body, \n",
      "#which can be used to define the location of position and orientation of joints, see the examples.\n",
      "    \n",
      "#%%++++++++++++++++++++++++++++++++++++++++++++++++++++\n",
      "#create rigid bodies and mass points with distance constraint and joints\n",
      "import exudyn as exu\n",
      "from exudyn.utilities import * #includes itemInterface and rigidBodyUtilities\n",
      "import exudyn.graphics as graphics #only import if it does not conflict\n",
      "import numpy as np\n",
      "SC = exu.SystemContainer()\n",
      "mbs = SC.AddSystem() #create a MainSystem 'mbs' to work with\n",
      "\n",
      "#graphics data for checkerboard background (not required):\n",
      "gGround0 = graphics.CheckerBoard(point=[3,0,-2], normal=[0,0,1], size=10)\n",
      "#add ground object and background graphics; visualization is optional\n",
      "oGround = mbs.CreateGround(graphicsDataList=[gGround0])\n",
      "\n",
      "#create a cube with length L (X-direction), height H (Y) and width W (Z)\n",
      "L=1\n",
      "H=0.2\n",
      "W=0.1\n",
      "#for visualization of the cube, we define a graphics object in the following\n",
      "graphicsCube = graphics.Brick(centerPoint = [0,0,0], #note that centerPoint is in the local coordinate system; IN MOST CASES THIS MUST BE AT [0,0,0]\n",
      "                                          size=[L,H,W], color=graphics.color.orange)\n",
      "#SUMMARIZING: graphicsCube usually should have centerPoint=[0,0,0] if used in the CreateRigidBody\n",
      "#define the inertia of this cube using InertiaCuboid with density and cube dimensions; computes internally mass, COM, and inertia tensor:\n",
      "inertiaCube = InertiaCuboid(density=5000, sideLengths=[L,H,W])\n",
      "\n",
      "#create simple rigid body\n",
      "#note that graphics is always attached to reference point of body, which is by default the COM\n",
      "#graphicsCube is added to reference point of the rigid body, here it is equal to the center of mass (COM):\n",
      "b0 = mbs.CreateRigidBody(inertia = inertiaCube,\n",
      "                         referencePosition = [0.5*L,0,0], #reference position x/y/z of COM\n",
      "                         referenceRotationMatrix=RotationVector2RotationMatrix([0,0,pi*0.5]),\n",
      "                         initialAngularVelocity=[2,0,0],\n",
      "                         initialVelocity=[0,4,0],\n",
      "                         gravity = [0,-9.81,0],\n",
      "                         graphicsDataList = [graphicsCube])\n",
      "\n",
      "#add an load with user function:\n",
      "def UFforce(mbs, t, loadVector):\n",
      "    #define time-dependent function:\n",
      "    return (10+5*np.sin(t*10*2*pi))*np.array(loadVector)\n",
      "\n",
      "#add an load with 10N in x-direction to rigid body at marker position\n",
      "#add user function to modify load in time\n",
      "mbs.CreateForce(bodyNumber=b0,\n",
      "                localPosition=[-0.5*L,0,0],\n",
      "                loadVector=[10,0,0],\n",
      "                loadVectorUserFunction=UFforce)\n",
      "\n",
      "#add torque to rigid body at left end\n",
      "mbs.CreateTorque(bodyNumber=b0, localPosition=[0.5,0,0],\n",
      "                loadVector=[0,1,0]) #torque of 1N around y-axis\n",
      "\n",
      "#create a rigid distance between local position of bodies (or ground) or between nodes\n",
      "mbs.CreateDistanceConstraint(bodyOrNodeList=[oGround, b0], \n",
      "                             localPosition0 = [ 0. ,0,0],\n",
      "                             localPosition1 = [-0.5,0,0],\n",
      "                             distance=None, #automatically computed\n",
      "                             drawSize=0.06)\n",
      "\n",
      "#geometrical parameters of two further bodies\n",
      "a=1\n",
      "b=2\n",
      "xOff = 1 #offset in x-direction for first body\n",
      "yOff =-0.5 #offset in y-direction of first body\n",
      "\n",
      "#create a second graphics object\n",
      "graphicsCube2 = graphics.Brick(centerPoint = [0,0,0], \n",
      "                                          size=[a,b,0.1], color=graphics.color.blue)\n",
      "inertiaCube2 = InertiaCuboid(density=5000, sideLengths=[a,b,0.1])\n",
      "\n",
      "#create another rigid body with other dimensions\n",
      "b1 = mbs.CreateRigidBody(inertia = inertiaCube2,\n",
      "                          referencePosition = [xOff+0.5*a,yOff-0.5*b,0], #reference position of body [X,Y,Z]\n",
      "                          gravity = [0,-9.81,0],\n",
      "                          graphicsDataList = [graphicsCube2])\n",
      "\n",
      "#create another rigid body with same dimensions as b1\n",
      "b2 = mbs.CreateRigidBody(inertia = inertiaCube2,\n",
      "                          referencePosition = [xOff+0.5*a+a,yOff-0.5*b-b,0], #reference position of body [X,Y,Z]\n",
      "                          gravity = [0,-9.81,0],\n",
      "                          graphicsDataList = [graphicsCube2])\n",
      "\n",
      "#create revolute joint with following args:\n",
      "    # name: name string for joint; markers get Marker0:name and Marker1:name\n",
      "    # bodyNumbers: a list of object numbers for body0 and body1; must be rigid body or ground object\n",
      "    # position: a 3D vector as list or np.array: if useGlobalFrame=True it describes the global position of the joint in reference configuration; else: local position in body0\n",
      "    # axis: a 3D vector as list or np.array: if useGlobalFrame=True it describes the global rotation axis of the joint in reference configuration; else: local axis in body0\n",
      "    # show: if True, connector visualization is drawn\n",
      "    # axisRadius: radius of axis for connector graphical representation\n",
      "    # axisLength: length of axis for connector graphical representation\n",
      "    # color: color of connector\n",
      "#CreateRevoluteJoint returns list [oJoint, mBody0, mBody1], containing the joint object number, and the two rigid body markers on body0/1 for the joint\n",
      "#(global reference) position of joint must be related to local size of rigid bodies\n",
      "mbs.CreateRevoluteJoint(bodyNumbers=[oGround, b1], position=[xOff,yOff,0], axis=[0,0,1], #rotation along global z-axis\n",
      "                        useGlobalFrame=True, axisRadius=0.02, axisLength=0.14)\n",
      "\n",
      "mbs.CreateRevoluteJoint(bodyNumbers=[b1, b2], position=[xOff+a,yOff-b,0], axis=[0,0,1], #rotation along global z-axis\n",
      "                        useGlobalFrame=True, axisRadius=0.02, axisLength=0.14)\n",
      "\n",
      "#create prismatic joint with following args:\n",
      "    # name: name string for joint; markers get Marker0:name and Marker1:name\n",
      "    # bodyNumbers: a list of object numbers for body0 and body1; must be rigid body or ground object\n",
      "    # position: a 3D vector as list or np.array: if useGlobalFrame=True it describes the global position of the joint in reference configuration; else: local position in body0\n",
      "    # axis: a 3D vector as list or np.array containing the global translation axis of the joint in reference configuration\n",
      "    # useGlobalFrame: if False, the point and axis vectors are defined in the local coordinate system of body0\n",
      "    # show: if True, connector visualization is drawn\n",
      "    # axisRadius: radius of axis for connector graphical representation\n",
      "    # axisLength: length of axis for connector graphical representation\n",
      "    # color: color of connector\n",
      "#returns list [oJoint, mBody0, mBody1], containing the joint object number, and the two rigid body markers on body0/1 for the joint\n",
      "# mbs.CreatePrismaticJoint(bodyNumbers=[oGround, b1], position=[-0.5,0,0], axis=[1,0,0], #can move in global x-direction\n",
      "#                          useGlobalFrame=True, axisRadius=0.02, axisLength=1)\n",
      "\n",
      "\n",
      "#prepare mbs for simulation:\n",
      "mbs.Assemble()\n",
      "#some simulation parameters:\n",
      "simulationSettings = exu.SimulationSettings() #takes currently set values or default values\n",
      "simulationSettings.timeIntegration.numberOfSteps = 1000\n",
      "simulationSettings.timeIntegration.endTime = 5\n",
      "\n",
      "#for redundant constraints, the following two settings:\n",
      "simulationSettings.linearSolverSettings.ignoreSingularJacobian=True\n",
      "simulationSettings.linearSolverType = exu.LinearSolverType.EigenDense #use EigenSparse for larger systems alternatively\n",
      "\n",
      "mbs.SolveDynamic(simulationSettings)\n",
      "\n",
      "#visualize results after simulation:\n",
      "mbs.SolutionViewer()\n",
      "\n",
      "\n",
      " Using the previous information and the already existing information on Python code Exudyn,  create a 3-link system of rigid bodies initially aligned along the X-axis with mass 10kg, length 2m and W=H=0.1 m.  The rigid bodies are exposed to gravity which acts in Y-direction and the first link is attached to ground with a revolute joint at the left end. <|im_end|>\n",
      "<|im_start|>assistant<|im_sep|>\n",
      "\n"
     ]
    }
   ],
   "source": [
    "# Format chat-style prompts or instruction/output pairs\n",
    "# <|im_start|>system<|im_sep|>{system_prompt}<|im_end|><|im_start|>user<|im_sep|>{prompt}<|im_end|><|im_start|>assistant<|im_sep|>\n",
    "system_prompt = ''\n",
    "FormattedStrTask = f\"<|im_start|>system<|im_sep|>{system_prompt}<|im_end|><|im_start|>user<|im_sep|>{strTask}<|im_end|><|im_start|>assistant<|im_sep|>\"\n",
    "\n",
    "print(FormattedStrTask.replace('<|im_sep|>', '<|im_sep|>' + '\\n').replace('<|im_end|>', '<|im_end|>\\n'))"
   ]
  },
  {
   "cell_type": "markdown",
   "id": "0d4525ab-f476-4516-89e3-4e9bd925283f",
   "metadata": {
    "editable": true,
    "slideshow": {
     "slide_type": "slide"
    },
    "tags": []
   },
   "source": [
    "### Code Generation\n",
    "Now, the actual simulation code is created by the language model. This might take a bit.  "
   ]
  },
  {
   "cell_type": "code",
   "execution_count": 6,
   "id": "2bca6ccc-4904-497a-9ab5-819397f41e90",
   "metadata": {
    "editable": true,
    "scrolled": true,
    "slideshow": {
     "slide_type": ""
    },
    "tags": []
   },
   "outputs": [
    {
     "name": "stdout",
     "output_type": "stream",
     "text": [
      "... start code generation.\n",
      "generating 1008 tokens took 65.56406807899475s  | 15.374 tokens/s\n",
      "To create a 3-link system of rigid bodies using Exudyn, we'll define each link as a rectangular prism (cuboid) aligned along the X-axis. Each link will have mass \\(10 \\text{ kg}\\), length \\(2 \\text{ m}\\), and width/height \\(0.1 \\text{ m}\\). The first link is attached to the ground with a revolute joint at its left end, allowing rotation around the Y-axis.\n",
      "\n",
      "Here's how you can set up this system in Exudyn:\n",
      "\n",
      "```python\n",
      "import exudyn as exu\n",
      "from exudyn.utilities import *\n",
      "import numpy as np\n",
      "\n",
      "# Create a SystemContainer and add a MainSystem to work with\n",
      "SC = exu.SystemContainer()\n",
      "mbs = SC.AddSystem()\n",
      "\n",
      "# Define the dimensions of each link\n",
      "length = 2.0\n",
      "width = height = 0.1\n",
      "mass = 10.0\n",
      "\n",
      "# Calculate inertia for each cuboid using InertiaCuboid function\n",
      "inertiaLink = InertiaCuboid(density=mass/(length*width*height), sideLengths=[length, width, height])\n",
      "\n",
      "# Define a graphics object for visualization of the links (optional)\n",
      "graphicsCube = graphics.Brick(centerPoint=[0, 0, 0], size=[length, width, height], color=graphics.color.red)\n",
      "\n",
      "# Create ground\n",
      "oGround = mbs.CreateGround()\n",
      "\n",
      "# Function to create and return a rigid body link\n",
      "def create_link(mbs, reference_position):\n",
      "    # Create the rigid body for each link with specified parameters\n",
      "    b = mbs.CreateRigidBody(\n",
      "        inertia=inertiaLink,\n",
      "        referencePosition=reference_position,\n",
      "        gravity=[0, -9.81, 0],\n",
      "        graphicsDataList=[graphicsCube]\n",
      "    )\n",
      "    return b\n",
      "\n",
      "# Initial positions of links along the X-axis\n",
      "positions = [[i * length for i in range(4)]]\n",
      "\n",
      "# Create three rigid body links\n",
      "bodies = [create_link(mbs, pos) for pos in positions]\n",
      "\n",
      "# Attach first link to ground with a revolute joint at its left end (position 0)\n",
      "mbs.CreateRevoluteJoint(\n",
      "    bodyNumbers=[oGround, bodies[0]],\n",
      "    position=[-length / 2.0, 0, 0],\n",
      "    axis=[0, 1, 0],  # Rotation around the Y-axis\n",
      "    useGlobalFrame=True,\n",
      "    axisRadius=0.02,\n",
      "    axisLength=0.14\n",
      ")\n",
      "\n",
      "# Connect subsequent links with revolute joints at their left ends\n",
      "for i in range(2):\n",
      "    mbs.CreateRevoluteJoint(\n",
      "        bodyNumbers=[bodies[i], bodies[i + 1]],\n",
      "        position=[length / 2.0, 0, 0],\n",
      "        axis=[0, 1, 0],  # Rotation around the Y-axis\n",
      "        useGlobalFrame=True,\n",
      "        axisRadius=0.02,\n",
      "        axisLength=0.14\n",
      "    )\n",
      "\n",
      "# Prepare mbs for simulation\n",
      "mbs.Assemble()\n",
      "\n",
      "# Define some simulation parameters\n",
      "simulationSettings = exu.SimulationSettings()\n",
      "simulationSettings.timeIntegration.numberOfSteps = 1000\n",
      "simulationSettings.timeIntegration.endTime = 5\n",
      "\n",
      "# For redundant constraints, use the following settings:\n",
      "simulationSettings.linearSolverSettings.ignoreSingularJacobian = True\n",
      "simulationSettings.linearSolverType = exu.LinearSolverType.EigenDense\n",
      "\n",
      "# Solve dynamic simulation\n",
      "mbs.SolveDynamic(simulationSettings)\n",
      "\n",
      "# Visualize results after simulation (optional)\n",
      "mbs.SolutionViewer()\n",
      "```\n",
      "\n",
      "### Explanation:\n",
      "\n",
      "1. **System Setup**: We start by creating a `SystemContainer` and adding a main system (`MainSystem`) to work with.\n",
      "\n",
      "2. **Link Properties**: Each link is defined as a cuboid with specified dimensions, mass, and inertia calculated using the `InertiaCuboid` function.\n",
      "\n",
      "3. **Graphics Object**: A graphics object for visualization of each link is created (optional).\n",
      "\n",
      "4. **Ground Creation**: The ground is added to which the first link will be attached via a revolute joint.\n",
      "\n",
      "5. **Link Creation Function**: We define a helper function, `create_link`, that creates and returns a rigid body with specified reference position parameters.\n",
      "\n",
      "6. **Revolute Joints**:\n",
      "   - A revolute joint connects the first link to the ground at its left end.\n",
      "   - Subsequent links are connected using additional revolute joints at their respective left ends allowing rotation around the Y-axis.\n",
      "\n",
      "7. **Simulation Preparation**: The system is assembled, and simulation settings are defined before solving the dynamic problem with `SolveDynamic`.\n",
      "\n",
      "8. **Visualization (Optional)**: After running the simulation, results can be visualized using `SolutionViewer`. \n",
      "\n",
      "This setup allows for a simple 3-link pendulum-like structure where each link can rotate around its connection point due to gravity acting in the negative Y-direction.\n"
     ]
    }
   ],
   "source": [
    "t1 = time.time()\n",
    "print('... start code generation.')\n",
    "strOutput = model.generate(FormattedStrTask, max_tokens=int(3000))\n",
    "tokensOut = tokenizer.encode(strOutput, add_special_tokens=False)\n",
    "dt = time.time() - t1\n",
    "print('generating {} tokens took {}s  | {} tokens/s'.format(len(tokensOut), dt, round(len(tokensOut)/dt, 3)))\n",
    "print(strOutput)\n",
    "# originally takes ~34 seconds on a NVIDIA RTX 4080 GPU. "
   ]
  },
  {
   "cell_type": "code",
   "execution_count": 7,
   "id": "44070639-01dd-490b-bcc1-0a65c9c9290d",
   "metadata": {
    "editable": true,
    "slideshow": {
     "slide_type": "slide"
    },
    "tags": []
   },
   "outputs": [
    {
     "ename": "NameError",
     "evalue": "name 'graphics' is not defined",
     "output_type": "error",
     "traceback": [
      "\u001b[31m---------------------------------------------------------------------------\u001b[39m",
      "\u001b[31mNameError\u001b[39m                                 Traceback (most recent call last)",
      "\u001b[36mCell\u001b[39m\u001b[36m \u001b[39m\u001b[32mIn[7]\u001b[39m\u001b[32m, line 2\u001b[39m\n\u001b[32m      1\u001b[39m strCode = strOutput.split(\u001b[33m\"\u001b[39m\u001b[33m```python\u001b[39m\u001b[33m\"\u001b[39m)[\u001b[32m1\u001b[39m].split(\u001b[33m\"\u001b[39m\u001b[33m```\u001b[39m\u001b[33m\"\u001b[39m)[\u001b[32m0\u001b[39m]\n\u001b[32m----> \u001b[39m\u001b[32m2\u001b[39m \u001b[43mexec\u001b[49m\u001b[43m(\u001b[49m\u001b[43mstrCode\u001b[49m\u001b[43m)\u001b[49m\n",
      "\u001b[36mFile \u001b[39m\u001b[32m<string>:19\u001b[39m\n",
      "\u001b[31mNameError\u001b[39m: name 'graphics' is not defined"
     ]
    }
   ],
   "source": [
    "strCode = strOutput.split(\"```python\")[1].split(\"```\")[0]\n",
    "CheckOutputLLM(strCode)\n",
    "exec(strCode)"
   ]
  },
  {
   "cell_type": "markdown",
   "id": "128121bc-8d4c-4262-8b1e-0946831cfde3",
   "metadata": {
    "editable": true,
    "slideshow": {
     "slide_type": ""
    },
    "tags": []
   },
   "source": [
    "If this code does not run or the solver crashes, the model did not create completely correct Python code. "
   ]
  },
  {
   "cell_type": "markdown",
   "id": "bd57354a-ddc9-4eba-ad2e-d3c78a84e808",
   "metadata": {
    "editable": true,
    "slideshow": {
     "slide_type": "slide"
    },
    "tags": []
   },
   "source": [
    "Another option for inference of the model is to use the llama_cpp library. The library is not in the requirements, as it might be more complicated to set up and is not required. \n",
    "\n",
    "\n",
    "In the code below, _streaming_ is used, which slows down the inference significantly. "
   ]
  },
  {
   "cell_type": "code",
   "execution_count": null,
   "id": "c1e3ffec-366a-4133-bcf0-262d3273f93a",
   "metadata": {
    "editable": true,
    "scrolled": true,
    "slideshow": {
     "slide_type": ""
    },
    "tags": []
   },
   "outputs": [],
   "source": [
    "try: ## optional using Llama_cpp and streaming: \n",
    "    from llama_cpp import Llama\n",
    "    os.environ[\"LLAMA_SET_ROWS\"] = \"1\"\n",
    "    llm = Llama.from_pretrained(\n",
    "        repo_id=repo_id,\n",
    "        filename=filename,\n",
    "        verbose=False, \n",
    "        n_ctx=16384,\n",
    "        n_gpu_layers = -1, \n",
    "    )\n",
    "    t1 = time.time()\n",
    "    output = llm.create_chat_completion(\n",
    "            messages=[\n",
    "                { \"role\": \"system\", \"content\": \"You are an engineer and expert in multibody Dynamics.\" },\n",
    "                { \"role\": \"user\", \"content\": strTask}\n",
    "            ], stream=True # show output continuously; this slows the model down \n",
    "        )\n",
    "    full_response  = \"\"\n",
    "    for chunk in output:\n",
    "        delta = chunk['choices'][0]['delta']\n",
    "        if 'role' in delta:\n",
    "            print(delta['role'], end=': ')\n",
    "        elif 'content' in delta:\n",
    "            print(delta['content'], end='')\n",
    "            full_response += delta['content']\n",
    "    dt_llamacpp = time.time() - t1\n",
    "    \n",
    "except Exception as e: \n",
    "    print(e)\n",
    "    print('llama_cpp not availible. Try \\n\\n')\n"
   ]
  },
  {
   "cell_type": "code",
   "execution_count": null,
   "id": "915360f5-176e-4663-823f-b079d80e5142",
   "metadata": {
    "editable": true,
    "scrolled": true,
    "slideshow": {
     "slide_type": "slide"
    },
    "tags": []
   },
   "outputs": [],
   "source": [
    "nTokens = len(tokenizer.encode(full_response, add_special_tokens=False))\n",
    "print('streaming {} tokens too {} seconds | {} tokens/second. '.format(nTokens, round(dt_llamacpp, 1), round(nTokens/dt_llamacpp, 4)))\n",
    "strCode_llamacpp = full_response.split(\"```python\")[1].split(\"```\")[0]\n",
    "CheckOutputLLM(strCode_llamacpp)\n",
    "exec(strCode_llamacpp)"
   ]
  }
 ],
 "metadata": {
  "kernelspec": {
   "display_name": "Python 3 (ipykernel)",
   "language": "python",
   "name": "python3"
  },
  "language_info": {
   "codemirror_mode": {
    "name": "ipython",
    "version": 3
   },
   "file_extension": ".py",
   "mimetype": "text/x-python",
   "name": "python",
   "nbconvert_exporter": "python",
   "pygments_lexer": "ipython3",
   "version": "3.11.13"
  }
 },
 "nbformat": 4,
 "nbformat_minor": 5
}
