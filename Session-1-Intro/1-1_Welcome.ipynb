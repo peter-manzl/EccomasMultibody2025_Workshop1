{
 "cells": [
  {
   "cell_type": "markdown",
   "id": "c798ee28-dae6-4a8f-8669-4df17b8afb0c",
   "metadata": {
    "editable": true,
    "slideshow": {
     "slide_type": "slide"
    },
    "tags": []
   },
   "source": [
    "# Machine Learning for Multibody System Dynamics\n",
    "\n",
    "## **Session 1-1:** Introduction to Machine Learning\n",
    "\n",
    "> We assume you know some Multibody Dynamics\n",
    "\n",
    "Grzegorz Orzechowski and Peter Manzl"
   ]
  },
  {
   "cell_type": "markdown",
   "id": "19aa9535-c3ee-4ad1-b214-2616522eafcc",
   "metadata": {
    "editable": true,
    "slideshow": {
     "slide_type": "slide"
    },
    "tags": []
   },
   "source": [
    "## Welcome and Context\n",
    "\n",
    "### Workshop goals\n",
    "Bridging simulation and machine learning for mechanical and mechatronic systems.\n",
    "\n",
    "### What's ahead\n",
    "\n",
    "- Basic ML ideas.\n",
    "- Simple hands-on example.\n",
    "- Surrogate modeling of hydraulic systems.\n",
    "- Reinforcement learning.\n",
    "- Large Language Models for modeling support."
   ]
  },
  {
   "cell_type": "markdown",
   "id": "9ccda533-96a9-43e6-ace7-94d265f18d8a",
   "metadata": {
    "editable": true,
    "slideshow": {
     "slide_type": "slide"
    },
    "tags": []
   },
   "source": [
    "## Why Machine Learning in MBD?\n",
    "\n",
    "### Challenges in MBD\n",
    "\n",
    "- High-fidelity simulations are computationally expensive.\n",
    "- Real-world data is noisy, complex, and sometimes incomplete.\n",
    "- ML provides rapid approximate predictions.\n",
    "- Useful for:\n",
    "  - Faster simulations\n",
    "  - Handling nonlinearity and uncertainty\n",
    "  - Real-time diagnostics and classification\n",
    "  - Optimization and design exploration"
   ]
  },
  {
   "cell_type": "markdown",
   "id": "2fc060b4-fc9d-4358-b26f-4cb5ba0e11f8",
   "metadata": {
    "editable": true,
    "slideshow": {
     "slide_type": "subslide"
    },
    "tags": []
   },
   "source": [
    "### Challenges in Machine Learning\n",
    "\n",
    "- Data.\n",
    "- Models.\n",
    "- Reproducibility.\n",
    "- Huge literature.\n",
    "- Poor quality reporting.\n",
    "\n",
    "![](https://upload.wikimedia.org/wikipedia/commons/thumb/1/1b/AI_hierarchy.svg/480px-AI_hierarchy.svg.png)"
   ]
  },
  {
   "cell_type": "markdown",
   "id": "8ff8e242-5afc-4b04-bd0a-7e0e487343e6",
   "metadata": {
    "editable": true,
    "slideshow": {
     "slide_type": "subslide"
    },
    "tags": []
   },
   "source": [
    "### When to use ML in Multibody Dynamics?\n",
    "\n",
    "- Need for speed and efficiency\n",
    "- Nonlinear and complex systems\n",
    "- Data-rich scenarios (sensor data, experiments)\n",
    "- Optimization or design challenges\n",
    "- Real-time control and monitoring\n",
    "\n",
    "#### Examples\n",
    "\n",
    "- Surrogate models replace complex simulations\n",
    "- Classification or regression for diagnostics\n",
    "- Reinforcement learning for adaptive control\n",
    "- LLMs to automate or support model creation and data interpretation\n",
    "\n",
    "Combine ML with physical models for the best results."
   ]
  },
  {
   "cell_type": "markdown",
   "id": "6640d93b-16d7-4bb0-ae26-67734d90b80d",
   "metadata": {
    "editable": true,
    "slideshow": {
     "slide_type": "slide"
    },
    "tags": []
   },
   "source": [
    "## What is Machine Learning?\n",
    "\n",
    "- Algorithms that learn patterns from data.\n",
    "- **Supervised learning**: learns from labeled examples.\n",
    "- **Unsupervised learning**: finds patterns in unlabeled data.\n",
    "- **Reinforcement learning**: learns from interactions with the environment."
   ]
  },
  {
   "cell_type": "markdown",
   "id": "9c3688b2-1647-46ce-acda-e2c37c6a4c31",
   "metadata": {
    "editable": true,
    "slideshow": {
     "slide_type": "subslide"
    },
    "tags": []
   },
   "source": [
    "### Supervised and Unsupervised Learning\n",
    "![](https://upload.wikimedia.org/wikipedia/commons/4/4d/Supervised_and_unsupervised_learning.png)"
   ]
  },
  {
   "cell_type": "markdown",
   "id": "b45b82fb-9af2-486e-a0a3-6d89cef4ad26",
   "metadata": {
    "editable": true,
    "slideshow": {
     "slide_type": "subslide"
    },
    "tags": []
   },
   "source": [
    "### Reinforcement Learning\n",
    "\n",
    "![](https://upload.wikimedia.org/wikipedia/commons/thumb/1/1b/Reinforcement_learning_diagram.svg/497px-Reinforcement_learning_diagram.svg.png)"
   ]
  },
  {
   "cell_type": "markdown",
   "id": "ebbccbec-8e37-41a8-8eab-ca0a2a690355",
   "metadata": {
    "editable": true,
    "slideshow": {
     "slide_type": "slide"
    },
    "tags": []
   },
   "source": [
    "## The ML workflow:\n",
    "\t\n",
    "1.\tProblem definition\n",
    "2.\tData collection / generation\n",
    "3.\tPreprocessing\n",
    "4.\tModel selection and training\n",
    "5.\tEvaluation and testing\n",
    "6.\tDeployment or integration with simulation/robotics\n",
    "\n",
    "_For MBD, we often use supervised learning to **approximate system responses**, e.g. predicting force or displacement._"
   ]
  },
  {
   "cell_type": "markdown",
   "id": "660ff5e2-499f-4fc8-bc92-4dffa1da825b",
   "metadata": {
    "editable": true,
    "slideshow": {
     "slide_type": "slide"
    },
    "tags": []
   },
   "source": [
    "## Neural Networks \n",
    "\n",
    "Wiki on [Neural Networks](https://en.wikipedia.org/wiki/Neural_network_(machine_learning))\n",
    "\n",
    "A neural network consists of layers of interconnected nodes (neurons).\n",
    "\n",
    "![Neural network architecture](https://upload.wikimedia.org/wikipedia/commons/thumb/4/46/Colored_neural_network.svg/399px-Colored_neural_network.svg.png)\n",
    "\n",
    "- **Input Layer**: receives input data\n",
    "- **Hidden Layers**: learn features from data\n",
    "- **Output Layer**: provides predictions\n",
    "\n",
    "Each node computes a weighted sum of inputs, passed through a nonlinear activation function.\n",
    "\n",
    "### Basic structure \n",
    "\n",
    "- Universal approximator\n",
    "- Works well when the network is large (smoothens the response)\n",
    "- Typically poor extrapolation"
   ]
  },
  {
   "cell_type": "markdown",
   "id": "4ab1db47-5001-416e-be95-57a734e7ce72",
   "metadata": {
    "editable": true,
    "slideshow": {
     "slide_type": "slide"
    },
    "tags": []
   },
   "source": [
    "## Neural Networks: Architectures\n",
    "\n",
    "- **Feedforward (MLP)**: General-purpose, tabular data\n",
    "- **Convolutional (CNN)**: Image and spatial/temporal data\n",
    "- **Recurrent (RNN)**: Time-series and sequential data\n",
    "- **Graph Neural Networks (GNN)**: Graphs, interconnected structures\n",
    "\n",
    "Choose according to data structure.\n",
    "\n",
    "### Autoencoders and Specialized Networks\n",
    "\n",
    "- **Autoencoders**: Compress data into lower-dimensional representations.\n",
    "  - Useful for feature extraction, anomaly detection, and noise reduction.\n",
    "- **Generative Adversarial Networks (GANs)**:\n",
    "  - Generate new realistic data samples.\n",
    "- **Transformers**: \n",
    "  - Attention mechanisms for sequence modeling.\n",
    "\n",
    "These specialized architectures are powerful for specific tasks.\n",
    "\n",
    "### Gradient optimization in NNs\n",
    "\n",
    "- Gradient descent family\n",
    "- Momentum-based optimization\n",
    "- Hyperparameters present in the ADAM optimizer"
   ]
  },
  {
   "cell_type": "markdown",
   "id": "dabffc39-516f-4450-b78e-a1fd8ae493cf",
   "metadata": {
    "editable": true,
    "slideshow": {
     "slide_type": "slide"
    },
    "tags": []
   },
   "source": [
    "## ML Tools & Libraries for Engineers\n",
    "\n",
    "- Python: scikit-learn, Keras/TensorFlow, PyTorch, pandas, matplotlib\n",
    "- MATLAB also has good ML capabilities\n",
    "- Platforms like Jupyter notebooks for hands-on work :)\n",
    "\n",
    "## Challenges and Considerations\n",
    "\n",
    "- **Data Quality and Quantity**: ML needs representative data.\n",
    "- **Interpretability**: Neural networks are \"black boxes.\"\n",
    "- **Extrapolation Limits**: ML models work best within their trained data range.\n",
    "\n",
    "Use ML carefully, complementing rather than replacing traditional models.\n"
   ]
  },
  {
   "cell_type": "markdown",
   "id": "9e73ecf4-8014-436b-8a89-e7c88e09a8a2",
   "metadata": {
    "editable": true,
    "slideshow": {
     "slide_type": "slide"
    },
    "tags": []
   },
   "source": [
    "## Basic example: fitting noisy sine wave\n",
    "\n",
    "### Importing packages and setting seeds for reproducibility"
   ]
  },
  {
   "cell_type": "code",
   "execution_count": 1,
   "id": "ea819b29-cf22-46a6-9ddc-40b82e3f213e",
   "metadata": {
    "editable": true,
    "slideshow": {
     "slide_type": ""
    },
    "tags": []
   },
   "outputs": [
    {
     "data": {
      "text/plain": [
       "<torch._C.Generator at 0x11be099d0>"
      ]
     },
     "execution_count": 1,
     "metadata": {},
     "output_type": "execute_result"
    }
   ],
   "source": [
    "import numpy as np\n",
    "import torch\n",
    "import torch.nn as nn\n",
    "import torch.optim as optim\n",
    "import matplotlib.pyplot as plt\n",
    "\n",
    "# Set seeds\n",
    "np.random.seed(42)\n",
    "torch.manual_seed(42)"
   ]
  },
  {
   "cell_type": "markdown",
   "id": "1877c61a-d0e5-4137-9a1f-358d77e7ff46",
   "metadata": {
    "editable": true,
    "slideshow": {
     "slide_type": "subslide"
    },
    "tags": []
   },
   "source": [
    "## 2. Generate Noisy Sinusoidal Dataset\n",
    "\n",
    "We want 200 points equally spaced in [0, 2π], then add Gaussian noise (σ=0.1).\n",
    "Finally, cast everything to 32-bit floats."
   ]
  },
  {
   "cell_type": "code",
   "execution_count": null,
   "id": "333b4d13-fce0-4602-a7f6-e4f0da9410c6",
   "metadata": {
    "editable": true,
    "slideshow": {
     "slide_type": ""
    },
    "tags": []
   },
   "outputs": [
    {
     "data": {
      "image/png": "[encoded data removed]",
      "text/plain": [
       "<Figure size 600x300 with 1 Axes>"
      ]
     },
     "metadata": {},
     "output_type": "display_data"
    }
   ],
   "source": [
    "# Number of total samples\n",
    "N_total = 200\n",
    "\n",
    "# Generate X_all as float32, shape (200,)\n",
    "X_all = np.linspace(0, 2 * np.pi, N_total, dtype=np.float32)\n",
    "\n",
    "# Generate noisy targets y_all = sin(x) + 0.1 * noise\n",
    "y_all = np.sin(X_all).astype(np.float32) + 0.1 * np.random.randn(N_total).astype(np.float32)\n",
    "\n",
    "# (Optional) Visualize the noisy sine:\n",
    "plt.figure(figsize=(6, 3))\n",
    "plt.plot(X_all, y_all, label=\"Noisy sin(x)\")\n",
    "plt.legend()\n",
    "plt.xlabel(\"x\")\n",
    "plt.ylabel(\"y\")\n",
    "plt.title(\"Noisy sine wave\")\n",
    "plt.show()"
   ]
  },
  {
   "cell_type": "markdown",
   "id": "c44d0e22-6560-42fc-8d04-6ac45fc051da",
   "metadata": {
    "editable": true,
    "slideshow": {
     "slide_type": "subslide"
    },
    "tags": []
   },
   "source": [
    "## 3. Split into Training (75%) and Validation (25%)"
   ]
  },
  {
   "cell_type": "code",
   "execution_count": null,
   "id": "b947e9ef-b6f7-4e6c-8f2d-9413a284c613",
   "metadata": {
    "editable": true,
    "slideshow": {
     "slide_type": ""
    },
    "tags": []
   },
   "outputs": [],
   "source": [
    "# Compute the index at which to split\n",
    "n_train = int(round(0.75 * N_total))   # = 150\n",
    "\n",
    "# Split in NumPy, then convert to PyTorch tensors\n",
    "X_train_np = X_all[:n_train].reshape(-1, 1)   # shape: (150, 1)\n",
    "y_train_np = y_all[:n_train].reshape(-1, 1)   # shape: (150, 1)\n",
    "\n",
    "X_val_np = X_all[n_train:].reshape(-1, 1)     # shape: (50, 1)\n",
    "y_val_np = y_all[n_train:].reshape(-1, 1)     # shape: (50, 1)\n",
    "\n",
    "# Convert to torch.FloatTensor\n",
    "X_train = torch.from_numpy(X_train_np)    # dtype=torch.float32, shape (150, 1)\n",
    "y_train = torch.from_numpy(y_train_np)    # shape (150, 1)\n",
    "\n",
    "X_val = torch.from_numpy(X_val_np)        # shape (50, 1)\n",
    "y_val = torch.from_numpy(y_val_np)        # shape (50, 1)"
   ]
  },
  {
   "cell_type": "markdown",
   "id": "24ce5c1c-8493-49b7-8a62-e8c259f9941e",
   "metadata": {
    "editable": true,
    "slideshow": {
     "slide_type": "subslide"
    },
    "tags": []
   },
   "source": [
    "## 4. Define the Model, Loss, and Optimizer\n",
    "\n",
    "In PyTorch, we use `nn.Sequential`."
   ]
  },
  {
   "cell_type": "code",
   "execution_count": null,
   "id": "704f4ff6-7742-4530-b59c-3c571752c3b6",
   "metadata": {
    "editable": true,
    "slideshow": {
     "slide_type": ""
    },
    "tags": []
   },
   "outputs": [],
   "source": [
    "model = nn.Sequential(\n",
    "    nn.Linear(1, 6),\n",
    "    nn.ReLU(),\n",
    "    nn.Linear(6, 1)\n",
    ")\n",
    "\n",
    "# Move model to CPU (default). If you have GPU, you could .to('cuda'), but not required here.\n",
    "\n",
    "# Mean Squared Error loss\n",
    "criterion = nn.MSELoss()\n",
    "\n",
    "# Adam optimizer with learning rate 0.001\n",
    "optimizer = optim.Adam(model.parameters(), lr=0.001)"
   ]
  },
  {
   "cell_type": "markdown",
   "id": "2e078301-1633-48ba-a3c4-f939665bba47",
   "metadata": {
    "editable": true,
    "slideshow": {
     "slide_type": "subslide"
    },
    "tags": []
   },
   "source": [
    "## 5. Training Loop (1000 Epochs)\n",
    "\n",
    "We will record train‐loss and val‐loss at each epoch into NumPy arrays (float32)."
   ]
  },
  {
   "cell_type": "code",
   "execution_count": null,
   "id": "d7e4dd65-5e39-4769-a456-5cf9d7ffaa77",
   "metadata": {
    "editable": true,
    "slideshow": {
     "slide_type": ""
    },
    "tags": []
   },
   "outputs": [],
   "source": [
    "epochs = 1000\n",
    "train_loss_history = np.zeros(epochs, dtype=np.float32)\n",
    "val_loss_history = np.zeros(epochs, dtype=np.float32)\n",
    "\n",
    "for epoch in range(epochs):\n",
    "    # --- Training Step ---\n",
    "    model.train()\n",
    "    optimizer.zero_grad()\n",
    "    \n",
    "    # Forward pass on entire training set\n",
    "    outputs = model(X_train)           # shape: (150, 1)\n",
    "    loss_train = criterion(outputs, y_train)\n",
    "    \n",
    "    # Backward + optimize\n",
    "    loss_train.backward()\n",
    "    optimizer.step()\n",
    "    \n",
    "    # Save the training loss (detach → scalar → float)\n",
    "    train_loss_history[epoch] = loss_train.item()\n",
    "    \n",
    "    # --- Validation Step (no grad) ---\n",
    "    model.eval()\n",
    "    with torch.no_grad():\n",
    "        val_preds = model(X_val)\n",
    "        loss_val = criterion(val_preds, y_val)\n",
    "        val_loss_history[epoch] = loss_val.item()"
   ]
  },
  {
   "cell_type": "markdown",
   "id": "f7ba81fa-1901-459b-81a4-90387cacdef8",
   "metadata": {
    "editable": true,
    "slideshow": {
     "slide_type": "subslide"
    },
    "tags": []
   },
   "source": [
    "## 6. Plot Training vs. Validation Loss"
   ]
  },
  {
   "cell_type": "code",
   "execution_count": null,
   "id": "7797ffb3-7c09-43cf-abdf-a4dd6ddb05ea",
   "metadata": {
    "editable": true,
    "slideshow": {
     "slide_type": ""
    },
    "tags": []
   },
   "outputs": [
    {
     "data": {
      "image/png": "[encoded data removed]",
      "text/plain": [
       "<Figure size 600x400 with 1 Axes>"
      ]
     },
     "metadata": {},
     "output_type": "display_data"
    }
   ],
   "source": [
    "plt.figure(figsize=(6, 4))\n",
    "plt.plot(np.arange(1, epochs + 1), train_loss_history, label=\"Training Loss\")\n",
    "plt.plot(np.arange(1, epochs + 1), val_loss_history, label=\"Validation Loss\")\n",
    "plt.xlabel(\"Epoch\")\n",
    "plt.ylabel(\"MSE Loss\")\n",
    "plt.title(\"Training vs. Validation Loss\")\n",
    "plt.legend()\n",
    "plt.show()"
   ]
  },
  {
   "cell_type": "markdown",
   "id": "9ea8a923-888c-42b0-a1b1-b97cfb8d8f8c",
   "metadata": {
    "editable": true,
    "slideshow": {
     "slide_type": "subslide"
    },
    "tags": []
   },
   "source": [
    "## 7. Plot Model Predictions vs. True Data\n",
    "\n",
    "Compute the model’s predictions on both train and validation sets."
   ]
  },
  {
   "cell_type": "code",
   "execution_count": null,
   "id": "e7018bb3-f658-48cb-b17e-d830398e0fe5",
   "metadata": {
    "editable": true,
    "slideshow": {
     "slide_type": ""
    },
    "tags": []
   },
   "outputs": [
    {
     "data": {
      "image/png": "[encoded data removed]",
      "text/plain": [
       "<Figure size 600x400 with 1 Axes>"
      ]
     },
     "metadata": {},
     "output_type": "display_data"
    }
   ],
   "source": [
    "model.eval()\n",
    "with torch.no_grad():\n",
    "    pred_train = model(X_train).cpu().numpy().reshape(-1,)   # shape → (150,)\n",
    "    pred_val   = model(X_val).cpu().numpy().reshape(-1,)     # shape → (50,)\n",
    "\n",
    "# Convert X back to 1D arrays for plotting\n",
    "X_train_plot = X_train.numpy().reshape(-1,)\n",
    "X_val_plot   = X_val.numpy().reshape(-1,)\n",
    "\n",
    "y_train_plot = y_train.numpy().reshape(-1,)\n",
    "y_val_plot   = y_val.numpy().reshape(-1,)\n",
    "\n",
    "# Plot predictions and true points\n",
    "plt.figure(figsize=(6, 4))\n",
    "plt.scatter(X_train_plot, y_train_plot, color=\"blue\", s=10, label=\"Train True\")\n",
    "plt.scatter(X_train_plot, pred_train, color=\"cyan\", s=10, label=\"Train Pred\", alpha=0.7)\n",
    "\n",
    "plt.scatter(X_val_plot, y_val_plot, color=\"red\", s=10, label=\"Val True\")\n",
    "plt.scatter(X_val_plot, pred_val, color=\"orange\", s=10, label=\"Val Pred\", alpha=0.7)\n",
    "\n",
    "plt.xlabel(\"x\")\n",
    "plt.ylabel(\"y\")\n",
    "plt.title(\"Model Predictions vs True (Train & Val)\")\n",
    "plt.legend()\n",
    "plt.show()"
   ]
  },
  {
   "cell_type": "markdown",
   "id": "a469a4ec-abcd-45ab-869f-206777191ffb",
   "metadata": {
    "editable": true,
    "slideshow": {
     "slide_type": "slide"
    },
    "tags": []
   },
   "source": [
    "## Next Examples\n",
    "\n",
    "### 1-2: Linear Oscillator\n",
    "\n",
    "- Provides interesting insight into neural networks\n",
    "\t\n",
    "### 2: Supervised Learning -- Nonlinear Mass-Spring-Damper System\n",
    "\n",
    "- Generate synthetic data with varying stiffness, damping, and input force\n",
    "- Fit a regression model to predict system response at certain time steps\n",
    "- Present simple classifier\n",
    "\t\n",
    "### 3: Reinforcement Learning\n",
    "\n",
    "- Introduction to environments, agents, and their interaction\n",
    "- Training RL controllers on cart poles\n",
    "\n",
    "### 4: Large Language Models for Model Generation\n",
    "\n",
    "- Introduction to LLMs -- online and offline uses\n",
    "- Generating simulation code for an oscillator\n",
    "- Generating meaningful multibody models"
   ]
  }
 ],
 "metadata": {
  "kernelspec": {
   "display_name": "Python 3 (ipykernel)",
   "language": "python",
   "name": "python3"
  },
  "language_info": {
   "codemirror_mode": {
    "name": "ipython",
    "version": 3
   },
   "file_extension": ".py",
   "mimetype": "text/x-python",
   "name": "python",
   "nbconvert_exporter": "python",
   "pygments_lexer": "ipython3",
   "version": "3.11.10"
  },
  "rise": {
   "scroll": true
  }
 },
 "nbformat": 4,
 "nbformat_minor": 5
}
