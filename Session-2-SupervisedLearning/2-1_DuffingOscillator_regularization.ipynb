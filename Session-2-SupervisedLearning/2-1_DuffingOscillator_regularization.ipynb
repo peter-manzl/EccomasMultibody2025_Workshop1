{
 "cells": [
  {
   "cell_type": "markdown",
   "id": "462113cd-f40a-442c-a236-fa033f6e2adc",
   "metadata": {
    "editable": true,
    "slideshow": {
     "slide_type": "slide"
    },
    "tags": []
   },
   "source": [
    "# Machine Learning for Multibody System Dynamics\n",
    "\n",
    "## **Session 2-1:** Surrogate Modeling – Duffing Oscillator with External Forcing\n",
    "\n",
    "Grzegorz Orzechowski & Peter Manzl\n",
    "\n",
    "> DNN trained on Duffing‐oscillator dynamics with randomized forces or harmonics."
   ]
  },
  {
   "cell_type": "markdown",
   "id": "7816cb03-42ae-4fb5-ad2b-17ec1882fee3",
   "metadata": {},
   "source": [
    "## Duffing Oscillator \n",
    "\n",
    "In this file, a deep neural network is trained on the dynamics of a [Duffing oscillator](https://en.wikipedia.org/wiki/Duffing_equation). The equations of motion (EOM) are:\n",
    "\n",
    "$$m \\,\\ddot{x} + d \\,\\dot{x} + k \\,x + \\alpha \\,k \\,x^3 = F(t).$$\n",
    "\n",
    "In the used dataset, parameters are fixed as:\n",
    "-  $m = 1$,\n",
    "-  $k = 1600$,\n",
    "-  $d = 8$,\n",
    "-  $\\alpha = 1$.\n",
    "\n",
    "Randomized forces $F_i$ are applied in the range $\\bigl[-2000,\\,2000\\bigr]$. For learning, inputs are normalized as $\\hat{f}_i = \\tfrac{1}{2000}F_i$.\n",
    "\n",
    "**Input vector**:\n",
    "\n",
    "$\\bigl[x_0,\\;\\dot{x}_0,\\;\\hat{f}_0,\\;\\dots,\\;\\hat{f}_{n-1}\\bigr]^T.$\n",
    "\n",
    "**Output vector**:\n",
    "$\\bigl[x_1,\\;x_2,\\;\\dots,\\;x_n\\bigr]^T, \\quad x_i = x\\bigl(t = i\\,h\\bigr),\\quad h = \\tfrac{0.5}{64}.$\n",
    "\n",
    "- **Dataset 1**: Randomized forces for each sample.\n",
    "- **Dataset 2**: Randomized harmonics with $\\omega \\in [0,\\,4\\pi]$ (uniform), amplitude also in $[-2000,\\,2000]$.\n",
    "\n",
    "Below, we generate both datasets, train a DNN surrogate, and compare predictions to true trajectories."
   ]
  },
  {
   "cell_type": "code",
   "execution_count": 1,
   "id": "c9159e12-4278-4578-958e-06130f669fef",
   "metadata": {},
   "outputs": [],
   "source": [
    "# 1) Imports & Device Setup\n",
    "import numpy as np\n",
    "import torch\n",
    "import torch.nn as nn\n",
    "import torch.optim as optim\n",
    "from torch.utils.data import DataLoader, TensorDataset\n",
    "from scipy.integrate import solve_ivp\n",
    "import matplotlib.pyplot as plt\n",
    "import time\n",
    "import random\n",
    "\n",
    "device = torch.device(\"cuda\" if torch.cuda.is_available() else \"cpu\")"
   ]
  },
  {
   "cell_type": "markdown",
   "id": "460f952c-98e0-4a69-8a33-51dc349c0400",
   "metadata": {},
   "source": [
    "## Problem Setup\n",
    "\n",
    "- Time step: $h = \\tfrac{0.5}{64}$.\n",
    "- Number of steps per trajectory: $n = 64$.\n",
    "- Total integration time: $T = n \\times h = 0.5\\,$s.\n",
    "- Time vector: $t_i = i\\,h$ for $i=0,\\dots,n$.\n",
    "\n",
    "Define constants and the Duffing ODE (second-order rewritten as first-order)."
   ]
  },
  {
   "cell_type": "code",
   "execution_count": 2,
   "id": "e054669b-9499-4f9a-93b6-0166805788fa",
   "metadata": {},
   "outputs": [],
   "source": [
    "# 2) Constants & time grid\n",
    "m, k, damp, alpha = 1.0, 1600.0, 8.0, 1.0\n",
    "n_steps = 64\n",
    "h       = 0.5 / n_steps\n",
    "T       = h * n_steps\n",
    "t_steps = np.linspace(0, T, n_steps+1)"
   ]
  },
  {
   "cell_type": "code",
   "execution_count": 3,
   "id": "86262780-401f-4af2-9eda-b343e6435665",
   "metadata": {},
   "outputs": [],
   "source": [
    "# 3) Duffing RHS (first-order form)\n",
    "def duffing_rhs(t, u, forces):\n",
    "    # u = [x, v]\n",
    "    idx = min(int(t / h), len(forces)-1)\n",
    "    F_t = forces[idx]\n",
    "    x, v = u\n",
    "    dx = v\n",
    "    dv = F_t - damp * v - k * x - alpha * k * x**3\n",
    "    return [dx, dv]"
   ]
  },
  {
   "cell_type": "markdown",
   "id": "b7210aa6-1819-451e-b00c-e98966ed31cd",
   "metadata": {},
   "source": [
    "## Generate Dataset 1: Randomized Forces\n",
    "\n",
    "For each sample:\n",
    "1. Random initial state $\\bigl(x_0,\\dot{x}_0\\bigr)\\in[-1,\\,1]$.\n",
    "2. Random force sequence $F_i \\sim \\mathcal{U}(-2000,\\,2000)$ for $i=0,\\dots,\\,n-1$.\n",
    "3. Normalize $\\hat{f}_i = F_i / 2000$.\n",
    "4. Integrate the ODE for $t\\in[0,\\,T]$ with forcing $F(t)$ piecewise constant on $[i\\,h,\\,(i+1)\\,h)$.\n",
    "5. Record positions $x_1,\\dots,x_n$ at $t=h,\\dots,T$."
   ]
  },
  {
   "cell_type": "code",
   "execution_count": 4,
   "id": "3da67abd-7a54-4c58-9ad9-365aa116db31",
   "metadata": {},
   "outputs": [
    {
     "name": "stdout",
     "output_type": "stream",
     "text": [
      "Dataset1 ⇒ inputs (2000, 66), targets (2000, 64)\n"
     ]
    }
   ],
   "source": [
    "# 4) Dataset 1\n",
    "rng = np.random.default_rng(123)\n",
    "N1 = 2000\n",
    "\n",
    "inputs1  = np.zeros((N1, 2 + n_steps), dtype=np.float32)\n",
    "targets1 = np.zeros((N1, n_steps),    dtype=np.float32)\n",
    "\n",
    "for i in range(N1):\n",
    "    x0 = rng.random()*2 - 1\n",
    "    v0 = rng.random()*2 - 1\n",
    "    F_seq = rng.random(n_steps)*4000 - 2000\n",
    "    fhat  = F_seq / 2000.0\n",
    "\n",
    "    inputs1[i, 0]   = x0\n",
    "    inputs1[i, 1]   = v0\n",
    "    inputs1[i, 2:]  = fhat\n",
    "\n",
    "    sol = solve_ivp(lambda t,y: duffing_rhs(t,y,F_seq),\n",
    "                    (0, T), [x0, v0],\n",
    "                    t_eval=t_steps, method='RK45')\n",
    "    # record x at t_steps[1:]\n",
    "    targets1[i] = sol.y[0, 1:]\n",
    "\n",
    "print(f\"Dataset1 ⇒ inputs {inputs1.shape}, targets {targets1.shape}\")"
   ]
  },
  {
   "cell_type": "markdown",
   "id": "db7236f5-b165-4ed0-8a52-6388ca003f16",
   "metadata": {},
   "source": [
    "## Generate Dataset 2: Randomized Harmonics\n",
    "\n",
    "For each sample:\n",
    "1. Random initial state $(x_0,\\dot{x}_0)$.\n",
    "2. Random amplitude $A \\sim \\mathcal{U}(-2000,\\,2000)$, random $\\omega \\sim \\mathcal{U}(0,\\,4\\pi)$.\n",
    "3. Define force sequence $F_i = A \\sin(\\omega \\, t_i)$, then normalize: $\\hat{f}_i = F_i/2000$.\n",
    "4. Integrate Duffing ODE with this forcing and record $x_1,\\dots,x_n$."
   ]
  },
  {
   "cell_type": "code",
   "execution_count": 5,
   "id": "b69f3908-7e13-4b44-b41c-2cd58a34243f",
   "metadata": {},
   "outputs": [
    {
     "name": "stdout",
     "output_type": "stream",
     "text": [
      "Dataset2 ⇒ inputs (2000, 66), targets (2000, 64)\n"
     ]
    }
   ],
   "source": [
    "# 5) Dataset 2\n",
    "rng = np.random.default_rng(456)\n",
    "N2 = 2000\n",
    "\n",
    "inputs2  = np.zeros((N2, 2 + n_steps), dtype=np.float32)\n",
    "targets2 = np.zeros((N2, n_steps),    dtype=np.float32)\n",
    "\n",
    "for i in range(N2):\n",
    "    x0 = rng.random()*2 - 1\n",
    "    v0 = rng.random()*2 - 1\n",
    "    A  = rng.random()*4000 - 2000\n",
    "    ω  = rng.random()*(4*np.pi)\n",
    "\n",
    "    F_seq = A * np.sin(ω * t_steps[:-1])\n",
    "    fhat  = F_seq / 2000.0\n",
    "\n",
    "    inputs2[i, 0]  = x0\n",
    "    inputs2[i, 1]  = v0\n",
    "    inputs2[i, 2:] = fhat\n",
    "\n",
    "    sol = solve_ivp(lambda t,y: duffing_rhs(t,y,F_seq),\n",
    "                    (0, T), [x0, v0],\n",
    "                    t_eval=t_steps, method='RK45')\n",
    "    targets2[i] = sol.y[0,1:]\n",
    "\n",
    "print(f\"Dataset2 ⇒ inputs {inputs2.shape}, targets {targets2.shape}\")"
   ]
  },
  {
   "cell_type": "markdown",
   "id": "3852a526-f90e-45d8-906e-4b38657740d1",
   "metadata": {},
   "source": [
    "## Combine & Split\n",
    "\n",
    "Stack both datasets and split 80 / 20 for train / test."
   ]
  },
  {
   "cell_type": "code",
   "execution_count": 6,
   "id": "2b7510f0-b9ad-4fa4-92db-ce7441502c3a",
   "metadata": {},
   "outputs": [
    {
     "name": "stdout",
     "output_type": "stream",
     "text": [
      "Train: 3200 samples, Test: 800 samples\n"
     ]
    }
   ],
   "source": [
    "# 6) Combine & train/test split\n",
    "X_all = np.vstack([inputs1, inputs2])\n",
    "Y_all = np.vstack([targets1, targets2])\n",
    "N_all = X_all.shape[0]\n",
    "\n",
    "perm = np.arange(N_all)\n",
    "rng.shuffle(perm)\n",
    "split = int(0.8 * N_all)\n",
    "tr_idx, te_idx = perm[:split], perm[split:]\n",
    "\n",
    "X_train = torch.from_numpy(X_all[tr_idx]).float().to(device)\n",
    "Y_train = torch.from_numpy(Y_all[tr_idx]).float().to(device)\n",
    "X_test  = torch.from_numpy(X_all[te_idx]).float().to(device)\n",
    "Y_test  = torch.from_numpy(Y_all[te_idx]).float().to(device)\n",
    "\n",
    "print(f\"Train: {len(tr_idx)} samples, Test: {len(te_idx)} samples\")"
   ]
  },
  {
   "cell_type": "markdown",
   "id": "f747c258-0b22-4224-88bd-c0a913dfa388",
   "metadata": {},
   "source": [
    "## Define the Surrogate MLP\n",
    "\n",
    "Architecture:\n",
    "- Input dim = \\(2 + 64\\)\n",
    "- Hidden layers:  \n",
    "  128 → 64 → 32  \n",
    "  (Sigmoid activations + Dropout 0.05)\n",
    "- Output dim = 64"
   ]
  },
  {
   "cell_type": "code",
   "execution_count": 7,
   "id": "11557ffa-5b59-4f2d-ae69-a6bf5b7ed4cd",
   "metadata": {},
   "outputs": [],
   "source": [
    "# 7) Fixed MLP surrogate\n",
    "class SurrogateMLP(nn.Module):\n",
    "    def __init__(self, input_dim, dropout_rate=0.05):\n",
    "        super().__init__()\n",
    "        self.net = nn.Sequential(\n",
    "            nn.Linear(input_dim, 128),\n",
    "            nn.ReLU(),\n",
    "            nn.Dropout(dropout_rate),\n",
    "            nn.Linear(128, 64),\n",
    "            nn.ReLU(),\n",
    "            nn.Dropout(dropout_rate),\n",
    "            nn.Linear(64, 32),\n",
    "            nn.ReLU(),\n",
    "            nn.Dropout(dropout_rate),\n",
    "            nn.Linear(32, n_steps),\n",
    "        )\n",
    "    def forward(self, x):\n",
    "        return self.net(x)\n",
    "\n",
    "model = SurrogateMLP(2 + n_steps, dropout_rate=0.05).to(device)"
   ]
  },
  {
   "cell_type": "markdown",
   "id": "3e9cfe7d-2965-48ac-8e82-af589fd1944d",
   "metadata": {},
   "source": [
    "## Regularization in Neural Networks\n",
    "\n",
    "<img src=\"../figures/overfitting.png\" alt=\"fig\" width=\"350\" align=\"right\" style=\"padding: 30px;\" />\n",
    "\n",
    "In Deep Learning __overfitting__ occurs when the model reproduces the training dataset well, but fails on the validation/test dataset. \n",
    "\n",
    "**Why Regularize?**\n",
    "\n",
    "- Prevent **overfitting**: too complex models memorize training data\n",
    "- Improve **generalization**: better performance on unseen data\n",
    "- Control **model complexity** and **training stability**\n",
    "\n",
    "**Common Techniques**\n",
    "\n",
    "1. **L2 Weight Decay**  \n",
    "   Penalize large weights by adding $\\lambda\\|w\\|^2$ to the loss\n",
    "2. **Dropout**  \n",
    "   Randomly disable neurons during training to prevent co-adaptation\n",
    "3. **Early Stopping**  \n",
    "   Stop training when validation loss stops improving\n",
    "4. **Data Augmentation**  \n",
    "   Expand dataset by applying transformations (e.g., noise, shifts)\n",
    "5. **Batch Normalization**  \n",
    "   Normalize activations to reduce internal covariate shift\n",
    "6. **L1 Regularization**  \n",
    "   Encourage weight sparsity via $\\lambda\\|w\\|_1$\n",
    "\n",
    "**Guidelines for Hyperparameters**\n",
    "\n",
    "- **L2 λ**: typically in $[10^{-6},10^{-2}]$\n",
    "- **Dropout rate**: often between 0.1 and 0.5\n",
    "- Combine multiple methods for best generalization\n",
    "\n",
    "**Note on AdamW** – valid for othe _W_ variants of optimizers\n",
    "\n",
    "- `AdamW` = `Adam` + decoupled weight decay\n",
    "- It’s a regularizer built into the optimizer.\n",
    "- Equivalent to L₂ weight‐decay, but implemented so it doesn’t interfere with Adam’s adaptive moment estimates."
   ]
  },
  {
   "cell_type": "markdown",
   "id": "719a78a8-3f3b-42f7-8724-ae0b34562825",
   "metadata": {},
   "source": [
    "## Reusable Training Function with Early Stopping\n",
    "\n",
    "We define `train_loop` that:\n",
    "- Accepts a `model`, an optimiser algorithm, a training DataLoader and a validation DataLoader.\n",
    "- Trains for up to `n_epochs` epochs, recording training and validation loss each epoch.\n",
    "- Stops early if validation loss does not improve for `patience` consecutive epochs.\n"
   ]
  },
  {
   "cell_type": "code",
   "execution_count": 8,
   "id": "ced90ce6-fae7-473b-9b40-e812c4d323a9",
   "metadata": {},
   "outputs": [],
   "source": [
    "# 8) Training helper\n",
    "def train_loop(model, optimizer, train_loader, val_loader, loss_fn,\n",
    "               n_epochs=2000, patience=50):\n",
    "    best_val = float('inf')\n",
    "    no_imp   = 0\n",
    "    best_wts = model.state_dict()\n",
    "    train_hist, val_hist = [], []\n",
    "    \n",
    "    for epoch in range(1, n_epochs+1):\n",
    "        # — train —\n",
    "        model.train()\n",
    "        run_loss = 0.0\n",
    "        for xb, yb in train_loader:\n",
    "            optimizer.zero_grad()\n",
    "            pred = model(xb)\n",
    "            loss = loss_fn(pred, yb)\n",
    "            loss.backward()\n",
    "            optimizer.step()\n",
    "            run_loss += loss.item()\n",
    "        train_hist.append(run_loss / len(train_loader))\n",
    "        \n",
    "        # — validate —\n",
    "        model.eval()\n",
    "        val_loss = 0.0\n",
    "        with torch.no_grad():\n",
    "            for xb, yb in val_loader:\n",
    "                val_loss += loss_fn(model(xb), yb).item()\n",
    "        val_loss /= len(val_loader)\n",
    "        val_hist.append(val_loss)\n",
    "        \n",
    "        # — early stop check —\n",
    "        if val_loss < best_val:\n",
    "            best_val = val_loss\n",
    "            best_wts = model.state_dict()\n",
    "            no_imp = 0\n",
    "        else:\n",
    "            no_imp += 1\n",
    "            if no_imp >= patience:\n",
    "                print(f\"Early stopping @ epoch {epoch}\")\n",
    "                break\n",
    "    \n",
    "    model.load_state_dict(best_wts)\n",
    "    return train_hist, val_hist"
   ]
  },
  {
   "cell_type": "markdown",
   "id": "fbb56461-d727-4e47-a118-b28ab0dda089",
   "metadata": {},
   "source": [
    "## Actual training with Early Stopping\n",
    "\n",
    "- **Optimizer:** AdamW (lr = 2e-3, weight_decay = 1e-2)  \n",
    "- **Loss:** MSE  \n",
    "- **Epochs:** up to 2000  \n",
    "- **Batch size:** 256  \n",
    "- **Patience:** 50 epochs"
   ]
  },
  {
   "cell_type": "code",
   "execution_count": 9,
   "id": "4142d60c-8124-4fb7-8845-687c6e80f109",
   "metadata": {},
   "outputs": [
    {
     "name": "stdout",
     "output_type": "stream",
     "text": [
      "Early stopping @ epoch 318\n",
      "Training finished in 5.9s\n",
      "Final validation loss: 0.029683\n"
     ]
    }
   ],
   "source": [
    "# 9) Actual training\n",
    "batch_size    = 256\n",
    "lr            = 2e-3\n",
    "weight_decay  = 1e-2\n",
    "loss_fn     = nn.MSELoss()\n",
    "optimizer     = optim.AdamW(model.parameters(), lr=lr, weight_decay=weight_decay)\n",
    "\n",
    "train_loader = DataLoader(TensorDataset(X_train, Y_train),\n",
    "                          batch_size=batch_size, shuffle=True)\n",
    "val_loader   = DataLoader(TensorDataset(X_test,  Y_test),\n",
    "                          batch_size=batch_size, shuffle=False)\n",
    "\n",
    "torch.manual_seed(432)\n",
    "t0 = time.time()\n",
    "train_hist, val_hist = train_loop(\n",
    "    model, optimizer, \n",
    "    train_loader, val_loader,\n",
    "    loss_fn,\n",
    "    n_epochs=2000, patience=50\n",
    ")\n",
    "print(f\"Training finished in {time.time()-t0:.1f}s\")\n",
    "print(f\"Final validation loss: {val_hist[-1]:.6f}\")"
   ]
  },
  {
   "cell_type": "code",
   "execution_count": 10,
   "id": "40bcf7a4-9474-4d9a-b2ba-ffbda8389443",
   "metadata": {},
   "outputs": [
    {
     "data": {
      "image/png": "[encoded data removed]",
      "text/plain": [
       "<Figure size 640x480 with 1 Axes>"
      ]
     },
     "metadata": {},
     "output_type": "display_data"
    }
   ],
   "source": [
    "# 10) Plot Training & Validation Loss\n",
    "plt.figure()\n",
    "plt.semilogy(train_hist, label='Train Loss')\n",
    "plt.semilogy(val_hist,   label='Val Loss', marker='o', markevery=100)\n",
    "plt.xlabel('Epoch')\n",
    "plt.ylabel('MSE (log scale)')\n",
    "plt.legend()\n",
    "plt.title('Training vs Validation Loss')\n",
    "plt.show()"
   ]
  },
  {
   "cell_type": "markdown",
   "id": "6553d235-92ba-462b-b795-ae21390b1ea1",
   "metadata": {},
   "source": [
    "## Example Prediction vs. True Trajectory\n",
    "\n",
    "Pick a random test sample and compare."
   ]
  },
  {
   "cell_type": "code",
   "execution_count": 11,
   "id": "ae0316b6-419e-4f07-8cc3-9e7f996f20b9",
   "metadata": {},
   "outputs": [
    {
     "data": {
      "image/png": "[encoded data removed]",
      "text/plain": [
       "<Figure size 640x480 with 1 Axes>"
      ]
     },
     "metadata": {},
     "output_type": "display_data"
    }
   ],
   "source": [
    "# 11) Compare one test case\n",
    "idx = random.randrange(len(X_test))\n",
    "x_in = X_test[idx:idx+1]\n",
    "true = Y_test[idx].cpu().numpy()\n",
    "\n",
    "with torch.no_grad():\n",
    "    pred = model(x_in).cpu().numpy().ravel()\n",
    "\n",
    "t_plot = t_steps[1:]  # times at x_1..x_64\n",
    "\n",
    "plt.figure()\n",
    "plt.plot(t_plot, true, label='True')\n",
    "plt.plot(t_plot, pred, '--', label='Surrogate')\n",
    "plt.xlabel('Time (s)')\n",
    "plt.ylabel('x(t)')\n",
    "plt.title('Surrogate vs True Duffing Trajectory')\n",
    "plt.legend()\n",
    "plt.show()"
   ]
  },
  {
   "cell_type": "markdown",
   "id": "073e9c77-fbb5-4c5f-bca0-11a9f126d236",
   "metadata": {},
   "source": [
    "## Final Notes\n",
    "\n",
    "- Two datasets were generated:\n",
    "  1. Randomized force sequences in $[-2000,\\,2000]$.\n",
    "  2. Randomized harmonic forces $A\\sin(\\omega t)$ with $A\\in[-2000,2000]$, $\\omega\\in[0,4\\pi]$.\n",
    "- Inputs include $(x_0, \\dot{x}_0)$ and normalized forces $\\hat{f}_i\\in[-1,1]$.\n",
    "- The DNN maps inputs $\\in\\mathbb{R}^{2+64}$ to outputs $\\in\\mathbb{R}^{64}$.\n",
    "- Loss is MSE on the entire trajectory.\n",
    "- We use several regularization strategies: early stopping, dropout layers, and L2 weight regularization.\n",
    "- You can adjust `hidden_dim`, learning rate (`lr`), `nEpoch`, `batchSize`, or network depth/width for improved performance.\n",
    "- For larger datasets, consider data normalization or more advanced architectures (e.g., convolutional, recurrent)."
   ]
  },
  {
   "cell_type": "code",
   "execution_count": null,
   "id": "30ae2fe1-7e4d-4ed8-8a6c-0fef17f4572c",
   "metadata": {},
   "outputs": [],
   "source": []
  }
 ],
 "metadata": {
  "kernelspec": {
   "display_name": "Python 3 (ipykernel)",
   "language": "python",
   "name": "python3"
  },
  "language_info": {
   "codemirror_mode": {
    "name": "ipython",
    "version": 3
   },
   "file_extension": ".py",
   "mimetype": "text/x-python",
   "name": "python",
   "nbconvert_exporter": "python",
   "pygments_lexer": "ipython3",
   "version": "3.11.10"
  }
 },
 "nbformat": 4,
 "nbformat_minor": 5
}
